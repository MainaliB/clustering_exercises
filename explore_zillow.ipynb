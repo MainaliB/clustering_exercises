{
 "cells": [
  {
   "cell_type": "code",
   "execution_count": 1,
   "metadata": {},
   "outputs": [],
   "source": [
    "import acquire\n",
    "import pandas as pd\n",
    "import wrangle_zillow\n",
    "import matplotlib.pyplot as plt\n",
    "import seaborn as sns\n",
    "import warnings\n",
    "warnings.filterwarnings(\"ignore\")"
   ]
  },
  {
   "cell_type": "code",
   "execution_count": 2,
   "metadata": {},
   "outputs": [],
   "source": [
    "# acquiring the zillow data set\n",
    "\n",
    "df = acquire.get_data()"
   ]
  },
  {
   "cell_type": "code",
   "execution_count": 3,
   "metadata": {},
   "outputs": [],
   "source": [
    "# removing duplicate columns and getting only the single unit properties\n",
    "\n",
    "zillow = wrangle_zillow.get_single_unit(df)"
   ]
  },
  {
   "cell_type": "code",
   "execution_count": 4,
   "metadata": {},
   "outputs": [
    {
     "data": {
      "text/html": [
       "<div>\n",
       "<style scoped>\n",
       "    .dataframe tbody tr th:only-of-type {\n",
       "        vertical-align: middle;\n",
       "    }\n",
       "\n",
       "    .dataframe tbody tr th {\n",
       "        vertical-align: top;\n",
       "    }\n",
       "\n",
       "    .dataframe thead th {\n",
       "        text-align: right;\n",
       "    }\n",
       "</style>\n",
       "<table border=\"1\" class=\"dataframe\">\n",
       "  <thead>\n",
       "    <tr style=\"text-align: right;\">\n",
       "      <th></th>\n",
       "      <th>id</th>\n",
       "      <th>parcelid</th>\n",
       "      <th>airconditioningtypeid</th>\n",
       "      <th>architecturalstyletypeid</th>\n",
       "      <th>basementsqft</th>\n",
       "      <th>bathroomcnt</th>\n",
       "      <th>bedroomcnt</th>\n",
       "      <th>buildingclasstypeid</th>\n",
       "      <th>buildingqualitytypeid</th>\n",
       "      <th>calculatedbathnbr</th>\n",
       "      <th>...</th>\n",
       "      <th>censustractandblock</th>\n",
       "      <th>logerror</th>\n",
       "      <th>transactiondate</th>\n",
       "      <th>buildingclassdesc</th>\n",
       "      <th>propertylandusedesc</th>\n",
       "      <th>airconditioningdesc</th>\n",
       "      <th>architecturalstyledesc</th>\n",
       "      <th>heatingorsystemdesc</th>\n",
       "      <th>storydesc</th>\n",
       "      <th>typeconstructiondesc</th>\n",
       "    </tr>\n",
       "  </thead>\n",
       "  <tbody>\n",
       "    <tr>\n",
       "      <th>0</th>\n",
       "      <td>1727539</td>\n",
       "      <td>14297519</td>\n",
       "      <td>NaN</td>\n",
       "      <td>NaN</td>\n",
       "      <td>NaN</td>\n",
       "      <td>3.5</td>\n",
       "      <td>4.0</td>\n",
       "      <td>NaN</td>\n",
       "      <td>NaN</td>\n",
       "      <td>3.5</td>\n",
       "      <td>...</td>\n",
       "      <td>6.059063e+13</td>\n",
       "      <td>0.025595</td>\n",
       "      <td>2017-01-01</td>\n",
       "      <td>None</td>\n",
       "      <td>Single Family Residential</td>\n",
       "      <td>None</td>\n",
       "      <td>None</td>\n",
       "      <td>None</td>\n",
       "      <td>None</td>\n",
       "      <td>None</td>\n",
       "    </tr>\n",
       "    <tr>\n",
       "      <th>1</th>\n",
       "      <td>1387261</td>\n",
       "      <td>17052889</td>\n",
       "      <td>NaN</td>\n",
       "      <td>NaN</td>\n",
       "      <td>NaN</td>\n",
       "      <td>1.0</td>\n",
       "      <td>2.0</td>\n",
       "      <td>NaN</td>\n",
       "      <td>NaN</td>\n",
       "      <td>1.0</td>\n",
       "      <td>...</td>\n",
       "      <td>6.111001e+13</td>\n",
       "      <td>0.055619</td>\n",
       "      <td>2017-01-01</td>\n",
       "      <td>None</td>\n",
       "      <td>Single Family Residential</td>\n",
       "      <td>None</td>\n",
       "      <td>None</td>\n",
       "      <td>None</td>\n",
       "      <td>None</td>\n",
       "      <td>None</td>\n",
       "    </tr>\n",
       "    <tr>\n",
       "      <th>2</th>\n",
       "      <td>11677</td>\n",
       "      <td>14186244</td>\n",
       "      <td>NaN</td>\n",
       "      <td>NaN</td>\n",
       "      <td>NaN</td>\n",
       "      <td>2.0</td>\n",
       "      <td>3.0</td>\n",
       "      <td>NaN</td>\n",
       "      <td>NaN</td>\n",
       "      <td>2.0</td>\n",
       "      <td>...</td>\n",
       "      <td>6.059022e+13</td>\n",
       "      <td>0.005383</td>\n",
       "      <td>2017-01-01</td>\n",
       "      <td>None</td>\n",
       "      <td>Single Family Residential</td>\n",
       "      <td>None</td>\n",
       "      <td>None</td>\n",
       "      <td>None</td>\n",
       "      <td>None</td>\n",
       "      <td>None</td>\n",
       "    </tr>\n",
       "    <tr>\n",
       "      <th>3</th>\n",
       "      <td>2288172</td>\n",
       "      <td>12177905</td>\n",
       "      <td>NaN</td>\n",
       "      <td>NaN</td>\n",
       "      <td>NaN</td>\n",
       "      <td>3.0</td>\n",
       "      <td>4.0</td>\n",
       "      <td>NaN</td>\n",
       "      <td>8.0</td>\n",
       "      <td>3.0</td>\n",
       "      <td>...</td>\n",
       "      <td>6.037300e+13</td>\n",
       "      <td>-0.103410</td>\n",
       "      <td>2017-01-01</td>\n",
       "      <td>None</td>\n",
       "      <td>Single Family Residential</td>\n",
       "      <td>None</td>\n",
       "      <td>None</td>\n",
       "      <td>Central</td>\n",
       "      <td>None</td>\n",
       "      <td>None</td>\n",
       "    </tr>\n",
       "    <tr>\n",
       "      <th>6</th>\n",
       "      <td>781532</td>\n",
       "      <td>12095076</td>\n",
       "      <td>1.0</td>\n",
       "      <td>NaN</td>\n",
       "      <td>NaN</td>\n",
       "      <td>3.0</td>\n",
       "      <td>4.0</td>\n",
       "      <td>NaN</td>\n",
       "      <td>9.0</td>\n",
       "      <td>3.0</td>\n",
       "      <td>...</td>\n",
       "      <td>6.037461e+13</td>\n",
       "      <td>-0.001011</td>\n",
       "      <td>2017-01-01</td>\n",
       "      <td>None</td>\n",
       "      <td>Single Family Residential</td>\n",
       "      <td>Central</td>\n",
       "      <td>None</td>\n",
       "      <td>Central</td>\n",
       "      <td>None</td>\n",
       "      <td>None</td>\n",
       "    </tr>\n",
       "    <tr>\n",
       "      <th>...</th>\n",
       "      <td>...</td>\n",
       "      <td>...</td>\n",
       "      <td>...</td>\n",
       "      <td>...</td>\n",
       "      <td>...</td>\n",
       "      <td>...</td>\n",
       "      <td>...</td>\n",
       "      <td>...</td>\n",
       "      <td>...</td>\n",
       "      <td>...</td>\n",
       "      <td>...</td>\n",
       "      <td>...</td>\n",
       "      <td>...</td>\n",
       "      <td>...</td>\n",
       "      <td>...</td>\n",
       "      <td>...</td>\n",
       "      <td>...</td>\n",
       "      <td>...</td>\n",
       "      <td>...</td>\n",
       "      <td>...</td>\n",
       "      <td>...</td>\n",
       "    </tr>\n",
       "    <tr>\n",
       "      <th>77409</th>\n",
       "      <td>673515</td>\n",
       "      <td>11000655</td>\n",
       "      <td>NaN</td>\n",
       "      <td>NaN</td>\n",
       "      <td>NaN</td>\n",
       "      <td>2.0</td>\n",
       "      <td>2.0</td>\n",
       "      <td>NaN</td>\n",
       "      <td>6.0</td>\n",
       "      <td>2.0</td>\n",
       "      <td>...</td>\n",
       "      <td>6.037101e+13</td>\n",
       "      <td>0.020615</td>\n",
       "      <td>2017-09-20</td>\n",
       "      <td>None</td>\n",
       "      <td>Single Family Residential</td>\n",
       "      <td>None</td>\n",
       "      <td>None</td>\n",
       "      <td>Central</td>\n",
       "      <td>None</td>\n",
       "      <td>None</td>\n",
       "    </tr>\n",
       "    <tr>\n",
       "      <th>77410</th>\n",
       "      <td>2968375</td>\n",
       "      <td>17239384</td>\n",
       "      <td>NaN</td>\n",
       "      <td>NaN</td>\n",
       "      <td>NaN</td>\n",
       "      <td>2.0</td>\n",
       "      <td>4.0</td>\n",
       "      <td>NaN</td>\n",
       "      <td>NaN</td>\n",
       "      <td>2.0</td>\n",
       "      <td>...</td>\n",
       "      <td>6.111008e+13</td>\n",
       "      <td>0.013209</td>\n",
       "      <td>2017-09-21</td>\n",
       "      <td>None</td>\n",
       "      <td>Single Family Residential</td>\n",
       "      <td>None</td>\n",
       "      <td>None</td>\n",
       "      <td>None</td>\n",
       "      <td>None</td>\n",
       "      <td>None</td>\n",
       "    </tr>\n",
       "    <tr>\n",
       "      <th>77411</th>\n",
       "      <td>1843709</td>\n",
       "      <td>12773139</td>\n",
       "      <td>1.0</td>\n",
       "      <td>NaN</td>\n",
       "      <td>NaN</td>\n",
       "      <td>1.0</td>\n",
       "      <td>3.0</td>\n",
       "      <td>NaN</td>\n",
       "      <td>4.0</td>\n",
       "      <td>1.0</td>\n",
       "      <td>...</td>\n",
       "      <td>6.037434e+13</td>\n",
       "      <td>0.037129</td>\n",
       "      <td>2017-09-21</td>\n",
       "      <td>None</td>\n",
       "      <td>Single Family Residential</td>\n",
       "      <td>Central</td>\n",
       "      <td>None</td>\n",
       "      <td>Central</td>\n",
       "      <td>None</td>\n",
       "      <td>None</td>\n",
       "    </tr>\n",
       "    <tr>\n",
       "      <th>77412</th>\n",
       "      <td>1187175</td>\n",
       "      <td>12826780</td>\n",
       "      <td>NaN</td>\n",
       "      <td>NaN</td>\n",
       "      <td>NaN</td>\n",
       "      <td>2.0</td>\n",
       "      <td>3.0</td>\n",
       "      <td>NaN</td>\n",
       "      <td>6.0</td>\n",
       "      <td>2.0</td>\n",
       "      <td>...</td>\n",
       "      <td>6.037503e+13</td>\n",
       "      <td>0.007204</td>\n",
       "      <td>2017-09-25</td>\n",
       "      <td>None</td>\n",
       "      <td>Single Family Residential</td>\n",
       "      <td>None</td>\n",
       "      <td>None</td>\n",
       "      <td>Central</td>\n",
       "      <td>None</td>\n",
       "      <td>None</td>\n",
       "    </tr>\n",
       "    <tr>\n",
       "      <th>77413</th>\n",
       "      <td>2455685</td>\n",
       "      <td>13083743</td>\n",
       "      <td>NaN</td>\n",
       "      <td>NaN</td>\n",
       "      <td>NaN</td>\n",
       "      <td>2.0</td>\n",
       "      <td>3.0</td>\n",
       "      <td>NaN</td>\n",
       "      <td>4.0</td>\n",
       "      <td>2.0</td>\n",
       "      <td>...</td>\n",
       "      <td>6.037408e+13</td>\n",
       "      <td>-0.197755</td>\n",
       "      <td>2018-05-25</td>\n",
       "      <td>None</td>\n",
       "      <td>Single Family Residential</td>\n",
       "      <td>None</td>\n",
       "      <td>None</td>\n",
       "      <td>Floor/Wall</td>\n",
       "      <td>None</td>\n",
       "      <td>None</td>\n",
       "    </tr>\n",
       "  </tbody>\n",
       "</table>\n",
       "<p>52357 rows × 68 columns</p>\n",
       "</div>"
      ],
      "text/plain": [
       "            id  parcelid  airconditioningtypeid  architecturalstyletypeid  \\\n",
       "0      1727539  14297519                    NaN                       NaN   \n",
       "1      1387261  17052889                    NaN                       NaN   \n",
       "2        11677  14186244                    NaN                       NaN   \n",
       "3      2288172  12177905                    NaN                       NaN   \n",
       "6       781532  12095076                    1.0                       NaN   \n",
       "...        ...       ...                    ...                       ...   \n",
       "77409   673515  11000655                    NaN                       NaN   \n",
       "77410  2968375  17239384                    NaN                       NaN   \n",
       "77411  1843709  12773139                    1.0                       NaN   \n",
       "77412  1187175  12826780                    NaN                       NaN   \n",
       "77413  2455685  13083743                    NaN                       NaN   \n",
       "\n",
       "       basementsqft  bathroomcnt  bedroomcnt  buildingclasstypeid  \\\n",
       "0               NaN          3.5         4.0                  NaN   \n",
       "1               NaN          1.0         2.0                  NaN   \n",
       "2               NaN          2.0         3.0                  NaN   \n",
       "3               NaN          3.0         4.0                  NaN   \n",
       "6               NaN          3.0         4.0                  NaN   \n",
       "...             ...          ...         ...                  ...   \n",
       "77409           NaN          2.0         2.0                  NaN   \n",
       "77410           NaN          2.0         4.0                  NaN   \n",
       "77411           NaN          1.0         3.0                  NaN   \n",
       "77412           NaN          2.0         3.0                  NaN   \n",
       "77413           NaN          2.0         3.0                  NaN   \n",
       "\n",
       "       buildingqualitytypeid  calculatedbathnbr  ...  censustractandblock  \\\n",
       "0                        NaN                3.5  ...         6.059063e+13   \n",
       "1                        NaN                1.0  ...         6.111001e+13   \n",
       "2                        NaN                2.0  ...         6.059022e+13   \n",
       "3                        8.0                3.0  ...         6.037300e+13   \n",
       "6                        9.0                3.0  ...         6.037461e+13   \n",
       "...                      ...                ...  ...                  ...   \n",
       "77409                    6.0                2.0  ...         6.037101e+13   \n",
       "77410                    NaN                2.0  ...         6.111008e+13   \n",
       "77411                    4.0                1.0  ...         6.037434e+13   \n",
       "77412                    6.0                2.0  ...         6.037503e+13   \n",
       "77413                    4.0                2.0  ...         6.037408e+13   \n",
       "\n",
       "       logerror  transactiondate  buildingclassdesc  \\\n",
       "0      0.025595       2017-01-01               None   \n",
       "1      0.055619       2017-01-01               None   \n",
       "2      0.005383       2017-01-01               None   \n",
       "3     -0.103410       2017-01-01               None   \n",
       "6     -0.001011       2017-01-01               None   \n",
       "...         ...              ...                ...   \n",
       "77409  0.020615       2017-09-20               None   \n",
       "77410  0.013209       2017-09-21               None   \n",
       "77411  0.037129       2017-09-21               None   \n",
       "77412  0.007204       2017-09-25               None   \n",
       "77413 -0.197755       2018-05-25               None   \n",
       "\n",
       "             propertylandusedesc  airconditioningdesc  architecturalstyledesc  \\\n",
       "0      Single Family Residential                 None                    None   \n",
       "1      Single Family Residential                 None                    None   \n",
       "2      Single Family Residential                 None                    None   \n",
       "3      Single Family Residential                 None                    None   \n",
       "6      Single Family Residential              Central                    None   \n",
       "...                          ...                  ...                     ...   \n",
       "77409  Single Family Residential                 None                    None   \n",
       "77410  Single Family Residential                 None                    None   \n",
       "77411  Single Family Residential              Central                    None   \n",
       "77412  Single Family Residential                 None                    None   \n",
       "77413  Single Family Residential                 None                    None   \n",
       "\n",
       "       heatingorsystemdesc  storydesc  typeconstructiondesc  \n",
       "0                     None       None                  None  \n",
       "1                     None       None                  None  \n",
       "2                     None       None                  None  \n",
       "3                  Central       None                  None  \n",
       "6                  Central       None                  None  \n",
       "...                    ...        ...                   ...  \n",
       "77409              Central       None                  None  \n",
       "77410                 None       None                  None  \n",
       "77411              Central       None                  None  \n",
       "77412              Central       None                  None  \n",
       "77413           Floor/Wall       None                  None  \n",
       "\n",
       "[52357 rows x 68 columns]"
      ]
     },
     "execution_count": 4,
     "metadata": {},
     "output_type": "execute_result"
    }
   ],
   "source": [
    "zillow"
   ]
  },
  {
   "cell_type": "code",
   "execution_count": 5,
   "metadata": {},
   "outputs": [],
   "source": [
    "# handling the missing values by requiring both columns and rows to have atleast 90% value\n",
    "\n",
    "zillow = wrangle_zillow.handle_missing_values(zillow, .8, .6)"
   ]
  },
  {
   "cell_type": "code",
   "execution_count": 6,
   "metadata": {},
   "outputs": [
    {
     "data": {
      "text/html": [
       "<div>\n",
       "<style scoped>\n",
       "    .dataframe tbody tr th:only-of-type {\n",
       "        vertical-align: middle;\n",
       "    }\n",
       "\n",
       "    .dataframe tbody tr th {\n",
       "        vertical-align: top;\n",
       "    }\n",
       "\n",
       "    .dataframe thead th {\n",
       "        text-align: right;\n",
       "    }\n",
       "</style>\n",
       "<table border=\"1\" class=\"dataframe\">\n",
       "  <thead>\n",
       "    <tr style=\"text-align: right;\">\n",
       "      <th></th>\n",
       "      <th>id</th>\n",
       "      <th>parcelid</th>\n",
       "      <th>bathroomcnt</th>\n",
       "      <th>bedroomcnt</th>\n",
       "      <th>calculatedbathnbr</th>\n",
       "      <th>calculatedfinishedsquarefeet</th>\n",
       "      <th>finishedsquarefeet12</th>\n",
       "      <th>fips</th>\n",
       "      <th>fullbathcnt</th>\n",
       "      <th>latitude</th>\n",
       "      <th>...</th>\n",
       "      <th>yearbuilt</th>\n",
       "      <th>structuretaxvaluedollarcnt</th>\n",
       "      <th>taxvaluedollarcnt</th>\n",
       "      <th>assessmentyear</th>\n",
       "      <th>landtaxvaluedollarcnt</th>\n",
       "      <th>taxamount</th>\n",
       "      <th>censustractandblock</th>\n",
       "      <th>logerror</th>\n",
       "      <th>transactiondate</th>\n",
       "      <th>propertylandusedesc</th>\n",
       "    </tr>\n",
       "  </thead>\n",
       "  <tbody>\n",
       "    <tr>\n",
       "      <th>0</th>\n",
       "      <td>1727539</td>\n",
       "      <td>14297519</td>\n",
       "      <td>3.5</td>\n",
       "      <td>4.0</td>\n",
       "      <td>3.5</td>\n",
       "      <td>3100.0</td>\n",
       "      <td>3100.0</td>\n",
       "      <td>6059.0</td>\n",
       "      <td>3.0</td>\n",
       "      <td>33634931.0</td>\n",
       "      <td>...</td>\n",
       "      <td>1998.0</td>\n",
       "      <td>485713.0</td>\n",
       "      <td>1023282.0</td>\n",
       "      <td>2016.0</td>\n",
       "      <td>537569.0</td>\n",
       "      <td>11013.72</td>\n",
       "      <td>6.059063e+13</td>\n",
       "      <td>0.025595</td>\n",
       "      <td>2017-01-01</td>\n",
       "      <td>Single Family Residential</td>\n",
       "    </tr>\n",
       "    <tr>\n",
       "      <th>1</th>\n",
       "      <td>1387261</td>\n",
       "      <td>17052889</td>\n",
       "      <td>1.0</td>\n",
       "      <td>2.0</td>\n",
       "      <td>1.0</td>\n",
       "      <td>1465.0</td>\n",
       "      <td>1465.0</td>\n",
       "      <td>6111.0</td>\n",
       "      <td>1.0</td>\n",
       "      <td>34449266.0</td>\n",
       "      <td>...</td>\n",
       "      <td>1967.0</td>\n",
       "      <td>88000.0</td>\n",
       "      <td>464000.0</td>\n",
       "      <td>2016.0</td>\n",
       "      <td>376000.0</td>\n",
       "      <td>5672.48</td>\n",
       "      <td>6.111001e+13</td>\n",
       "      <td>0.055619</td>\n",
       "      <td>2017-01-01</td>\n",
       "      <td>Single Family Residential</td>\n",
       "    </tr>\n",
       "    <tr>\n",
       "      <th>2</th>\n",
       "      <td>11677</td>\n",
       "      <td>14186244</td>\n",
       "      <td>2.0</td>\n",
       "      <td>3.0</td>\n",
       "      <td>2.0</td>\n",
       "      <td>1243.0</td>\n",
       "      <td>1243.0</td>\n",
       "      <td>6059.0</td>\n",
       "      <td>2.0</td>\n",
       "      <td>33886168.0</td>\n",
       "      <td>...</td>\n",
       "      <td>1962.0</td>\n",
       "      <td>85289.0</td>\n",
       "      <td>564778.0</td>\n",
       "      <td>2016.0</td>\n",
       "      <td>479489.0</td>\n",
       "      <td>6488.30</td>\n",
       "      <td>6.059022e+13</td>\n",
       "      <td>0.005383</td>\n",
       "      <td>2017-01-01</td>\n",
       "      <td>Single Family Residential</td>\n",
       "    </tr>\n",
       "    <tr>\n",
       "      <th>3</th>\n",
       "      <td>2288172</td>\n",
       "      <td>12177905</td>\n",
       "      <td>3.0</td>\n",
       "      <td>4.0</td>\n",
       "      <td>3.0</td>\n",
       "      <td>2376.0</td>\n",
       "      <td>2376.0</td>\n",
       "      <td>6037.0</td>\n",
       "      <td>3.0</td>\n",
       "      <td>34245180.0</td>\n",
       "      <td>...</td>\n",
       "      <td>1970.0</td>\n",
       "      <td>108918.0</td>\n",
       "      <td>145143.0</td>\n",
       "      <td>2016.0</td>\n",
       "      <td>36225.0</td>\n",
       "      <td>1777.51</td>\n",
       "      <td>6.037300e+13</td>\n",
       "      <td>-0.103410</td>\n",
       "      <td>2017-01-01</td>\n",
       "      <td>Single Family Residential</td>\n",
       "    </tr>\n",
       "    <tr>\n",
       "      <th>6</th>\n",
       "      <td>781532</td>\n",
       "      <td>12095076</td>\n",
       "      <td>3.0</td>\n",
       "      <td>4.0</td>\n",
       "      <td>3.0</td>\n",
       "      <td>2962.0</td>\n",
       "      <td>2962.0</td>\n",
       "      <td>6037.0</td>\n",
       "      <td>3.0</td>\n",
       "      <td>34145202.0</td>\n",
       "      <td>...</td>\n",
       "      <td>1950.0</td>\n",
       "      <td>276684.0</td>\n",
       "      <td>773303.0</td>\n",
       "      <td>2016.0</td>\n",
       "      <td>496619.0</td>\n",
       "      <td>9516.26</td>\n",
       "      <td>6.037461e+13</td>\n",
       "      <td>-0.001011</td>\n",
       "      <td>2017-01-01</td>\n",
       "      <td>Single Family Residential</td>\n",
       "    </tr>\n",
       "    <tr>\n",
       "      <th>...</th>\n",
       "      <td>...</td>\n",
       "      <td>...</td>\n",
       "      <td>...</td>\n",
       "      <td>...</td>\n",
       "      <td>...</td>\n",
       "      <td>...</td>\n",
       "      <td>...</td>\n",
       "      <td>...</td>\n",
       "      <td>...</td>\n",
       "      <td>...</td>\n",
       "      <td>...</td>\n",
       "      <td>...</td>\n",
       "      <td>...</td>\n",
       "      <td>...</td>\n",
       "      <td>...</td>\n",
       "      <td>...</td>\n",
       "      <td>...</td>\n",
       "      <td>...</td>\n",
       "      <td>...</td>\n",
       "      <td>...</td>\n",
       "      <td>...</td>\n",
       "    </tr>\n",
       "    <tr>\n",
       "      <th>77409</th>\n",
       "      <td>673515</td>\n",
       "      <td>11000655</td>\n",
       "      <td>2.0</td>\n",
       "      <td>2.0</td>\n",
       "      <td>2.0</td>\n",
       "      <td>1286.0</td>\n",
       "      <td>1286.0</td>\n",
       "      <td>6037.0</td>\n",
       "      <td>2.0</td>\n",
       "      <td>34245368.0</td>\n",
       "      <td>...</td>\n",
       "      <td>1940.0</td>\n",
       "      <td>70917.0</td>\n",
       "      <td>354621.0</td>\n",
       "      <td>2016.0</td>\n",
       "      <td>283704.0</td>\n",
       "      <td>4478.43</td>\n",
       "      <td>6.037101e+13</td>\n",
       "      <td>0.020615</td>\n",
       "      <td>2017-09-20</td>\n",
       "      <td>Single Family Residential</td>\n",
       "    </tr>\n",
       "    <tr>\n",
       "      <th>77410</th>\n",
       "      <td>2968375</td>\n",
       "      <td>17239384</td>\n",
       "      <td>2.0</td>\n",
       "      <td>4.0</td>\n",
       "      <td>2.0</td>\n",
       "      <td>1612.0</td>\n",
       "      <td>1612.0</td>\n",
       "      <td>6111.0</td>\n",
       "      <td>2.0</td>\n",
       "      <td>34300140.0</td>\n",
       "      <td>...</td>\n",
       "      <td>1964.0</td>\n",
       "      <td>50683.0</td>\n",
       "      <td>67205.0</td>\n",
       "      <td>2016.0</td>\n",
       "      <td>16522.0</td>\n",
       "      <td>1107.48</td>\n",
       "      <td>6.111008e+13</td>\n",
       "      <td>0.013209</td>\n",
       "      <td>2017-09-21</td>\n",
       "      <td>Single Family Residential</td>\n",
       "    </tr>\n",
       "    <tr>\n",
       "      <th>77411</th>\n",
       "      <td>1843709</td>\n",
       "      <td>12773139</td>\n",
       "      <td>1.0</td>\n",
       "      <td>3.0</td>\n",
       "      <td>1.0</td>\n",
       "      <td>1032.0</td>\n",
       "      <td>1032.0</td>\n",
       "      <td>6037.0</td>\n",
       "      <td>1.0</td>\n",
       "      <td>34040895.0</td>\n",
       "      <td>...</td>\n",
       "      <td>1954.0</td>\n",
       "      <td>32797.0</td>\n",
       "      <td>49546.0</td>\n",
       "      <td>2016.0</td>\n",
       "      <td>16749.0</td>\n",
       "      <td>876.43</td>\n",
       "      <td>6.037434e+13</td>\n",
       "      <td>0.037129</td>\n",
       "      <td>2017-09-21</td>\n",
       "      <td>Single Family Residential</td>\n",
       "    </tr>\n",
       "    <tr>\n",
       "      <th>77412</th>\n",
       "      <td>1187175</td>\n",
       "      <td>12826780</td>\n",
       "      <td>2.0</td>\n",
       "      <td>3.0</td>\n",
       "      <td>2.0</td>\n",
       "      <td>1762.0</td>\n",
       "      <td>1762.0</td>\n",
       "      <td>6037.0</td>\n",
       "      <td>2.0</td>\n",
       "      <td>33937685.0</td>\n",
       "      <td>...</td>\n",
       "      <td>1955.0</td>\n",
       "      <td>140000.0</td>\n",
       "      <td>522000.0</td>\n",
       "      <td>2016.0</td>\n",
       "      <td>382000.0</td>\n",
       "      <td>6317.15</td>\n",
       "      <td>6.037503e+13</td>\n",
       "      <td>0.007204</td>\n",
       "      <td>2017-09-25</td>\n",
       "      <td>Single Family Residential</td>\n",
       "    </tr>\n",
       "    <tr>\n",
       "      <th>77413</th>\n",
       "      <td>2455685</td>\n",
       "      <td>13083743</td>\n",
       "      <td>2.0</td>\n",
       "      <td>3.0</td>\n",
       "      <td>2.0</td>\n",
       "      <td>1050.0</td>\n",
       "      <td>1050.0</td>\n",
       "      <td>6037.0</td>\n",
       "      <td>2.0</td>\n",
       "      <td>34010864.0</td>\n",
       "      <td>...</td>\n",
       "      <td>1960.0</td>\n",
       "      <td>77118.0</td>\n",
       "      <td>259334.0</td>\n",
       "      <td>2016.0</td>\n",
       "      <td>182216.0</td>\n",
       "      <td>3345.78</td>\n",
       "      <td>6.037408e+13</td>\n",
       "      <td>-0.197755</td>\n",
       "      <td>2018-05-25</td>\n",
       "      <td>Single Family Residential</td>\n",
       "    </tr>\n",
       "  </tbody>\n",
       "</table>\n",
       "<p>52357 rows × 29 columns</p>\n",
       "</div>"
      ],
      "text/plain": [
       "            id  parcelid  bathroomcnt  bedroomcnt  calculatedbathnbr  \\\n",
       "0      1727539  14297519          3.5         4.0                3.5   \n",
       "1      1387261  17052889          1.0         2.0                1.0   \n",
       "2        11677  14186244          2.0         3.0                2.0   \n",
       "3      2288172  12177905          3.0         4.0                3.0   \n",
       "6       781532  12095076          3.0         4.0                3.0   \n",
       "...        ...       ...          ...         ...                ...   \n",
       "77409   673515  11000655          2.0         2.0                2.0   \n",
       "77410  2968375  17239384          2.0         4.0                2.0   \n",
       "77411  1843709  12773139          1.0         3.0                1.0   \n",
       "77412  1187175  12826780          2.0         3.0                2.0   \n",
       "77413  2455685  13083743          2.0         3.0                2.0   \n",
       "\n",
       "       calculatedfinishedsquarefeet  finishedsquarefeet12    fips  \\\n",
       "0                            3100.0                3100.0  6059.0   \n",
       "1                            1465.0                1465.0  6111.0   \n",
       "2                            1243.0                1243.0  6059.0   \n",
       "3                            2376.0                2376.0  6037.0   \n",
       "6                            2962.0                2962.0  6037.0   \n",
       "...                             ...                   ...     ...   \n",
       "77409                        1286.0                1286.0  6037.0   \n",
       "77410                        1612.0                1612.0  6111.0   \n",
       "77411                        1032.0                1032.0  6037.0   \n",
       "77412                        1762.0                1762.0  6037.0   \n",
       "77413                        1050.0                1050.0  6037.0   \n",
       "\n",
       "       fullbathcnt    latitude  ...  yearbuilt  structuretaxvaluedollarcnt  \\\n",
       "0              3.0  33634931.0  ...     1998.0                    485713.0   \n",
       "1              1.0  34449266.0  ...     1967.0                     88000.0   \n",
       "2              2.0  33886168.0  ...     1962.0                     85289.0   \n",
       "3              3.0  34245180.0  ...     1970.0                    108918.0   \n",
       "6              3.0  34145202.0  ...     1950.0                    276684.0   \n",
       "...            ...         ...  ...        ...                         ...   \n",
       "77409          2.0  34245368.0  ...     1940.0                     70917.0   \n",
       "77410          2.0  34300140.0  ...     1964.0                     50683.0   \n",
       "77411          1.0  34040895.0  ...     1954.0                     32797.0   \n",
       "77412          2.0  33937685.0  ...     1955.0                    140000.0   \n",
       "77413          2.0  34010864.0  ...     1960.0                     77118.0   \n",
       "\n",
       "      taxvaluedollarcnt  assessmentyear  landtaxvaluedollarcnt  taxamount  \\\n",
       "0             1023282.0          2016.0               537569.0   11013.72   \n",
       "1              464000.0          2016.0               376000.0    5672.48   \n",
       "2              564778.0          2016.0               479489.0    6488.30   \n",
       "3              145143.0          2016.0                36225.0    1777.51   \n",
       "6              773303.0          2016.0               496619.0    9516.26   \n",
       "...                 ...             ...                    ...        ...   \n",
       "77409          354621.0          2016.0               283704.0    4478.43   \n",
       "77410           67205.0          2016.0                16522.0    1107.48   \n",
       "77411           49546.0          2016.0                16749.0     876.43   \n",
       "77412          522000.0          2016.0               382000.0    6317.15   \n",
       "77413          259334.0          2016.0               182216.0    3345.78   \n",
       "\n",
       "       censustractandblock  logerror  transactiondate  \\\n",
       "0             6.059063e+13  0.025595       2017-01-01   \n",
       "1             6.111001e+13  0.055619       2017-01-01   \n",
       "2             6.059022e+13  0.005383       2017-01-01   \n",
       "3             6.037300e+13 -0.103410       2017-01-01   \n",
       "6             6.037461e+13 -0.001011       2017-01-01   \n",
       "...                    ...       ...              ...   \n",
       "77409         6.037101e+13  0.020615       2017-09-20   \n",
       "77410         6.111008e+13  0.013209       2017-09-21   \n",
       "77411         6.037434e+13  0.037129       2017-09-21   \n",
       "77412         6.037503e+13  0.007204       2017-09-25   \n",
       "77413         6.037408e+13 -0.197755       2018-05-25   \n",
       "\n",
       "             propertylandusedesc  \n",
       "0      Single Family Residential  \n",
       "1      Single Family Residential  \n",
       "2      Single Family Residential  \n",
       "3      Single Family Residential  \n",
       "6      Single Family Residential  \n",
       "...                          ...  \n",
       "77409  Single Family Residential  \n",
       "77410  Single Family Residential  \n",
       "77411  Single Family Residential  \n",
       "77412  Single Family Residential  \n",
       "77413  Single Family Residential  \n",
       "\n",
       "[52357 rows x 29 columns]"
      ]
     },
     "execution_count": 6,
     "metadata": {},
     "output_type": "execute_result"
    }
   ],
   "source": [
    "zillow"
   ]
  },
  {
   "cell_type": "code",
   "execution_count": 7,
   "metadata": {},
   "outputs": [
    {
     "data": {
      "text/plain": [
       "id                                 0\n",
       "parcelid                           0\n",
       "bathroomcnt                        0\n",
       "bedroomcnt                         0\n",
       "calculatedbathnbr                162\n",
       "calculatedfinishedsquarefeet     107\n",
       "finishedsquarefeet12             273\n",
       "fips                               0\n",
       "fullbathcnt                      162\n",
       "latitude                           0\n",
       "longitude                          0\n",
       "lotsizesquarefeet                375\n",
       "propertycountylandusecode          0\n",
       "propertylandusetypeid              0\n",
       "rawcensustractandblock             0\n",
       "regionidcity                    1036\n",
       "regionidcounty                     0\n",
       "regionidzip                       26\n",
       "roomcnt                            0\n",
       "yearbuilt                        140\n",
       "structuretaxvaluedollarcnt        82\n",
       "taxvaluedollarcnt                  1\n",
       "assessmentyear                     0\n",
       "landtaxvaluedollarcnt              1\n",
       "taxamount                          4\n",
       "censustractandblock              125\n",
       "logerror                           0\n",
       "transactiondate                    0\n",
       "propertylandusedesc                0\n",
       "dtype: int64"
      ]
     },
     "execution_count": 7,
     "metadata": {},
     "output_type": "execute_result"
    }
   ],
   "source": [
    "# lets check how many missing values we have left\n",
    "zillow.isna().sum()"
   ]
  },
  {
   "cell_type": "code",
   "execution_count": 8,
   "metadata": {},
   "outputs": [
    {
     "name": "stdout",
     "output_type": "stream",
     "text": [
      "<class 'pandas.core.frame.DataFrame'>\n",
      "Int64Index: 52357 entries, 0 to 77413\n",
      "Data columns (total 29 columns):\n",
      " #   Column                        Non-Null Count  Dtype  \n",
      "---  ------                        --------------  -----  \n",
      " 0   id                            52357 non-null  int64  \n",
      " 1   parcelid                      52357 non-null  int64  \n",
      " 2   bathroomcnt                   52357 non-null  float64\n",
      " 3   bedroomcnt                    52357 non-null  float64\n",
      " 4   calculatedbathnbr             52195 non-null  float64\n",
      " 5   calculatedfinishedsquarefeet  52250 non-null  float64\n",
      " 6   finishedsquarefeet12          52084 non-null  float64\n",
      " 7   fips                          52357 non-null  float64\n",
      " 8   fullbathcnt                   52195 non-null  float64\n",
      " 9   latitude                      52357 non-null  float64\n",
      " 10  longitude                     52357 non-null  float64\n",
      " 11  lotsizesquarefeet             51982 non-null  float64\n",
      " 12  propertycountylandusecode     52357 non-null  object \n",
      " 13  propertylandusetypeid         52357 non-null  float64\n",
      " 14  rawcensustractandblock        52357 non-null  float64\n",
      " 15  regionidcity                  51321 non-null  float64\n",
      " 16  regionidcounty                52357 non-null  float64\n",
      " 17  regionidzip                   52331 non-null  float64\n",
      " 18  roomcnt                       52357 non-null  float64\n",
      " 19  yearbuilt                     52217 non-null  float64\n",
      " 20  structuretaxvaluedollarcnt    52275 non-null  float64\n",
      " 21  taxvaluedollarcnt             52356 non-null  float64\n",
      " 22  assessmentyear                52357 non-null  float64\n",
      " 23  landtaxvaluedollarcnt         52356 non-null  float64\n",
      " 24  taxamount                     52353 non-null  float64\n",
      " 25  censustractandblock           52232 non-null  float64\n",
      " 26  logerror                      52357 non-null  float64\n",
      " 27  transactiondate               52357 non-null  object \n",
      " 28  propertylandusedesc           52357 non-null  object \n",
      "dtypes: float64(24), int64(2), object(3)\n",
      "memory usage: 12.0+ MB\n"
     ]
    }
   ],
   "source": [
    "zillow.info()"
   ]
  },
  {
   "cell_type": "code",
   "execution_count": 9,
   "metadata": {},
   "outputs": [],
   "source": [
    "zillow = wrangle_zillow.clean_zillow(zillow)"
   ]
  },
  {
   "cell_type": "code",
   "execution_count": 10,
   "metadata": {},
   "outputs": [
    {
     "data": {
      "text/plain": [
       "((33508, 26), (10472, 26), (8377, 26))"
      ]
     },
     "execution_count": 10,
     "metadata": {},
     "output_type": "execute_result"
    }
   ],
   "source": [
    "train, test, validate = wrangle_zillow.split_zillow(zillow)\n",
    "\n",
    "train.shape, test.shape, validate.shape"
   ]
  },
  {
   "cell_type": "code",
   "execution_count": 11,
   "metadata": {},
   "outputs": [],
   "source": [
    "# So how are we going to fill in the missing values?\n",
    "# if the columns are categorical/discrete we wil used mode, if its continuous we will use median\n",
    "cat_cols = [ 'fullbathcnt', 'regionidcity', 'regionidzip','yearbuilt']\n",
    "cont_cols = ['censustractandblock', 'taxamount', 'landtaxvaluedollarcnt', 'taxvaluedollarcnt', 'lotsizesquarefeet', \n",
    "            'calculatedfinishedsquarefeet', 'structuretaxvaluedollarcnt']\n",
    "\n",
    "train, test, validate = wrangle_zillow.fill_na(train, test, validate, cat_cols = cat_cols, cont_cols = cont_cols)"
   ]
  },
  {
   "cell_type": "code",
   "execution_count": 12,
   "metadata": {},
   "outputs": [
    {
     "data": {
      "text/plain": [
       "id                              0\n",
       "parcelid                        0\n",
       "bathroomcnt                     0\n",
       "bedroomcnt                      0\n",
       "calculatedfinishedsquarefeet    0\n",
       "fips                            0\n",
       "fullbathcnt                     0\n",
       "latitude                        0\n",
       "longitude                       0\n",
       "lotsizesquarefeet               0\n",
       "propertycountylandusecode       0\n",
       "rawcensustractandblock          0\n",
       "regionidcity                    0\n",
       "regionidcounty                  0\n",
       "regionidzip                     0\n",
       "roomcnt                         0\n",
       "yearbuilt                       0\n",
       "structuretaxvaluedollarcnt      0\n",
       "taxvaluedollarcnt               0\n",
       "assessmentyear                  0\n",
       "landtaxvaluedollarcnt           0\n",
       "taxamount                       0\n",
       "censustractandblock             0\n",
       "logerror                        0\n",
       "transactiondate                 0\n",
       "propertylandusedesc             0\n",
       "dtype: int64"
      ]
     },
     "execution_count": 12,
     "metadata": {},
     "output_type": "execute_result"
    }
   ],
   "source": [
    "train.isnull().sum()"
   ]
  },
  {
   "cell_type": "code",
   "execution_count": 13,
   "metadata": {},
   "outputs": [
    {
     "data": {
      "text/plain": [
       "id                              0\n",
       "parcelid                        0\n",
       "bathroomcnt                     0\n",
       "bedroomcnt                      0\n",
       "calculatedfinishedsquarefeet    0\n",
       "fips                            0\n",
       "fullbathcnt                     0\n",
       "latitude                        0\n",
       "longitude                       0\n",
       "lotsizesquarefeet               0\n",
       "propertycountylandusecode       0\n",
       "rawcensustractandblock          0\n",
       "regionidcity                    0\n",
       "regionidcounty                  0\n",
       "regionidzip                     0\n",
       "roomcnt                         0\n",
       "yearbuilt                       0\n",
       "structuretaxvaluedollarcnt      0\n",
       "taxvaluedollarcnt               0\n",
       "assessmentyear                  0\n",
       "landtaxvaluedollarcnt           0\n",
       "taxamount                       0\n",
       "censustractandblock             0\n",
       "logerror                        0\n",
       "transactiondate                 0\n",
       "propertylandusedesc             0\n",
       "dtype: int64"
      ]
     },
     "execution_count": 13,
     "metadata": {},
     "output_type": "execute_result"
    }
   ],
   "source": [
    "validate.isnull().sum()"
   ]
  },
  {
   "cell_type": "code",
   "execution_count": 14,
   "metadata": {},
   "outputs": [
    {
     "data": {
      "text/plain": [
       "id                              0\n",
       "parcelid                        0\n",
       "bathroomcnt                     0\n",
       "bedroomcnt                      0\n",
       "calculatedfinishedsquarefeet    0\n",
       "fips                            0\n",
       "fullbathcnt                     0\n",
       "latitude                        0\n",
       "longitude                       0\n",
       "lotsizesquarefeet               0\n",
       "propertycountylandusecode       0\n",
       "rawcensustractandblock          0\n",
       "regionidcity                    0\n",
       "regionidcounty                  0\n",
       "regionidzip                     0\n",
       "roomcnt                         0\n",
       "yearbuilt                       0\n",
       "structuretaxvaluedollarcnt      0\n",
       "taxvaluedollarcnt               0\n",
       "assessmentyear                  0\n",
       "landtaxvaluedollarcnt           0\n",
       "taxamount                       0\n",
       "censustractandblock             0\n",
       "logerror                        0\n",
       "transactiondate                 0\n",
       "propertylandusedesc             0\n",
       "dtype: int64"
      ]
     },
     "execution_count": 14,
     "metadata": {},
     "output_type": "execute_result"
    }
   ],
   "source": [
    "test.isnull().sum()"
   ]
  },
  {
   "cell_type": "markdown",
   "metadata": {},
   "source": [
    "## LETS START EXPLORING"
   ]
  },
  {
   "cell_type": "code",
   "execution_count": 15,
   "metadata": {},
   "outputs": [
    {
     "data": {
      "text/html": [
       "<div>\n",
       "<style scoped>\n",
       "    .dataframe tbody tr th:only-of-type {\n",
       "        vertical-align: middle;\n",
       "    }\n",
       "\n",
       "    .dataframe tbody tr th {\n",
       "        vertical-align: top;\n",
       "    }\n",
       "\n",
       "    .dataframe thead th {\n",
       "        text-align: right;\n",
       "    }\n",
       "</style>\n",
       "<table border=\"1\" class=\"dataframe\">\n",
       "  <thead>\n",
       "    <tr style=\"text-align: right;\">\n",
       "      <th></th>\n",
       "      <th>id</th>\n",
       "      <th>parcelid</th>\n",
       "      <th>bathroomcnt</th>\n",
       "      <th>bedroomcnt</th>\n",
       "      <th>calculatedfinishedsquarefeet</th>\n",
       "      <th>fips</th>\n",
       "      <th>fullbathcnt</th>\n",
       "      <th>latitude</th>\n",
       "      <th>longitude</th>\n",
       "      <th>lotsizesquarefeet</th>\n",
       "      <th>...</th>\n",
       "      <th>yearbuilt</th>\n",
       "      <th>structuretaxvaluedollarcnt</th>\n",
       "      <th>taxvaluedollarcnt</th>\n",
       "      <th>assessmentyear</th>\n",
       "      <th>landtaxvaluedollarcnt</th>\n",
       "      <th>taxamount</th>\n",
       "      <th>censustractandblock</th>\n",
       "      <th>logerror</th>\n",
       "      <th>transactiondate</th>\n",
       "      <th>propertylandusedesc</th>\n",
       "    </tr>\n",
       "  </thead>\n",
       "  <tbody>\n",
       "    <tr>\n",
       "      <th>70973</th>\n",
       "      <td>1396417</td>\n",
       "      <td>12860323</td>\n",
       "      <td>2.0</td>\n",
       "      <td>4.0</td>\n",
       "      <td>2026.0</td>\n",
       "      <td>6037.0</td>\n",
       "      <td>2.0</td>\n",
       "      <td>33994863.0</td>\n",
       "      <td>-117827729.0</td>\n",
       "      <td>8128.0</td>\n",
       "      <td>...</td>\n",
       "      <td>1981.0</td>\n",
       "      <td>189214.0</td>\n",
       "      <td>263281.0</td>\n",
       "      <td>2016.0</td>\n",
       "      <td>74067.0</td>\n",
       "      <td>3292.88</td>\n",
       "      <td>6.037403e+13</td>\n",
       "      <td>0.013614</td>\n",
       "      <td>2017-08-29</td>\n",
       "      <td>Single Family Residential</td>\n",
       "    </tr>\n",
       "    <tr>\n",
       "      <th>72662</th>\n",
       "      <td>450711</td>\n",
       "      <td>11225448</td>\n",
       "      <td>2.0</td>\n",
       "      <td>3.0</td>\n",
       "      <td>1051.0</td>\n",
       "      <td>6037.0</td>\n",
       "      <td>2.0</td>\n",
       "      <td>34567583.0</td>\n",
       "      <td>-117941545.0</td>\n",
       "      <td>39901.0</td>\n",
       "      <td>...</td>\n",
       "      <td>1983.0</td>\n",
       "      <td>72800.0</td>\n",
       "      <td>168000.0</td>\n",
       "      <td>2016.0</td>\n",
       "      <td>95200.0</td>\n",
       "      <td>2062.32</td>\n",
       "      <td>6.037910e+13</td>\n",
       "      <td>-0.068252</td>\n",
       "      <td>2017-09-01</td>\n",
       "      <td>Single Family Residential</td>\n",
       "    </tr>\n",
       "    <tr>\n",
       "      <th>71106</th>\n",
       "      <td>2097109</td>\n",
       "      <td>12788441</td>\n",
       "      <td>2.0</td>\n",
       "      <td>5.0</td>\n",
       "      <td>1875.0</td>\n",
       "      <td>6037.0</td>\n",
       "      <td>2.0</td>\n",
       "      <td>33966020.0</td>\n",
       "      <td>-118023774.0</td>\n",
       "      <td>5940.0</td>\n",
       "      <td>...</td>\n",
       "      <td>1951.0</td>\n",
       "      <td>174810.0</td>\n",
       "      <td>522149.0</td>\n",
       "      <td>2016.0</td>\n",
       "      <td>347339.0</td>\n",
       "      <td>6169.82</td>\n",
       "      <td>6.037502e+13</td>\n",
       "      <td>-0.048605</td>\n",
       "      <td>2017-08-29</td>\n",
       "      <td>Single Family Residential</td>\n",
       "    </tr>\n",
       "    <tr>\n",
       "      <th>71634</th>\n",
       "      <td>1616661</td>\n",
       "      <td>12049757</td>\n",
       "      <td>3.0</td>\n",
       "      <td>3.0</td>\n",
       "      <td>2013.0</td>\n",
       "      <td>6037.0</td>\n",
       "      <td>3.0</td>\n",
       "      <td>34187047.0</td>\n",
       "      <td>-118284901.0</td>\n",
       "      <td>11324.0</td>\n",
       "      <td>...</td>\n",
       "      <td>1946.0</td>\n",
       "      <td>316018.0</td>\n",
       "      <td>790047.0</td>\n",
       "      <td>2016.0</td>\n",
       "      <td>474029.0</td>\n",
       "      <td>8780.89</td>\n",
       "      <td>6.037301e+13</td>\n",
       "      <td>0.411197</td>\n",
       "      <td>2017-08-30</td>\n",
       "      <td>Single Family Residential</td>\n",
       "    </tr>\n",
       "    <tr>\n",
       "      <th>21627</th>\n",
       "      <td>735468</td>\n",
       "      <td>11669182</td>\n",
       "      <td>2.0</td>\n",
       "      <td>3.0</td>\n",
       "      <td>1633.0</td>\n",
       "      <td>6037.0</td>\n",
       "      <td>2.0</td>\n",
       "      <td>34046508.0</td>\n",
       "      <td>-118520331.0</td>\n",
       "      <td>5196.0</td>\n",
       "      <td>...</td>\n",
       "      <td>1936.0</td>\n",
       "      <td>177867.0</td>\n",
       "      <td>889359.0</td>\n",
       "      <td>2016.0</td>\n",
       "      <td>711492.0</td>\n",
       "      <td>10700.59</td>\n",
       "      <td>6.037263e+13</td>\n",
       "      <td>0.008659</td>\n",
       "      <td>2017-03-30</td>\n",
       "      <td>Single Family Residential</td>\n",
       "    </tr>\n",
       "  </tbody>\n",
       "</table>\n",
       "<p>5 rows × 26 columns</p>\n",
       "</div>"
      ],
      "text/plain": [
       "            id  parcelid  bathroomcnt  bedroomcnt  \\\n",
       "70973  1396417  12860323          2.0         4.0   \n",
       "72662   450711  11225448          2.0         3.0   \n",
       "71106  2097109  12788441          2.0         5.0   \n",
       "71634  1616661  12049757          3.0         3.0   \n",
       "21627   735468  11669182          2.0         3.0   \n",
       "\n",
       "       calculatedfinishedsquarefeet    fips  fullbathcnt    latitude  \\\n",
       "70973                        2026.0  6037.0          2.0  33994863.0   \n",
       "72662                        1051.0  6037.0          2.0  34567583.0   \n",
       "71106                        1875.0  6037.0          2.0  33966020.0   \n",
       "71634                        2013.0  6037.0          3.0  34187047.0   \n",
       "21627                        1633.0  6037.0          2.0  34046508.0   \n",
       "\n",
       "         longitude  lotsizesquarefeet  ... yearbuilt  \\\n",
       "70973 -117827729.0             8128.0  ...    1981.0   \n",
       "72662 -117941545.0            39901.0  ...    1983.0   \n",
       "71106 -118023774.0             5940.0  ...    1951.0   \n",
       "71634 -118284901.0            11324.0  ...    1946.0   \n",
       "21627 -118520331.0             5196.0  ...    1936.0   \n",
       "\n",
       "       structuretaxvaluedollarcnt  taxvaluedollarcnt  assessmentyear  \\\n",
       "70973                    189214.0           263281.0          2016.0   \n",
       "72662                     72800.0           168000.0          2016.0   \n",
       "71106                    174810.0           522149.0          2016.0   \n",
       "71634                    316018.0           790047.0          2016.0   \n",
       "21627                    177867.0           889359.0          2016.0   \n",
       "\n",
       "       landtaxvaluedollarcnt  taxamount  censustractandblock  logerror  \\\n",
       "70973                74067.0    3292.88         6.037403e+13  0.013614   \n",
       "72662                95200.0    2062.32         6.037910e+13 -0.068252   \n",
       "71106               347339.0    6169.82         6.037502e+13 -0.048605   \n",
       "71634               474029.0    8780.89         6.037301e+13  0.411197   \n",
       "21627               711492.0   10700.59         6.037263e+13  0.008659   \n",
       "\n",
       "       transactiondate        propertylandusedesc  \n",
       "70973       2017-08-29  Single Family Residential  \n",
       "72662       2017-09-01  Single Family Residential  \n",
       "71106       2017-08-29  Single Family Residential  \n",
       "71634       2017-08-30  Single Family Residential  \n",
       "21627       2017-03-30  Single Family Residential  \n",
       "\n",
       "[5 rows x 26 columns]"
      ]
     },
     "execution_count": 15,
     "metadata": {},
     "output_type": "execute_result"
    }
   ],
   "source": [
    "train.head()"
   ]
  },
  {
   "cell_type": "code",
   "execution_count": 16,
   "metadata": {},
   "outputs": [
    {
     "data": {
      "image/png": "[encoded data removed]",
      "text/plain": [
       "<Figure size 432x288 with 1 Axes>"
      ]
     },
     "metadata": {
      "needs_background": "light"
     },
     "output_type": "display_data"
    },
    {
     "data": {
      "image/png": "[encoded data removed]",
      "text/plain": [
       "<Figure size 432x288 with 1 Axes>"
      ]
     },
     "metadata": {
      "needs_background": "light"
     },
     "output_type": "display_data"
    },
    {
     "data": {
      "image/png": "[encoded data removed]",
      "text/plain": [
       "<Figure size 432x288 with 1 Axes>"
      ]
     },
     "metadata": {
      "needs_background": "light"
     },
     "output_type": "display_data"
    },
    {
     "data": {
      "image/png": "[encoded data removed]",
      "text/plain": [
       "<Figure size 432x288 with 1 Axes>"
      ]
     },
     "metadata": {
      "needs_background": "light"
     },
     "output_type": "display_data"
    },
    {
     "data": {
      "image/png": "[encoded data removed]",
      "text/plain": [
       "<Figure size 432x288 with 1 Axes>"
      ]
     },
     "metadata": {
      "needs_background": "light"
     },
     "output_type": "display_data"
    },
    {
     "data": {
      "image/png": "[encoded data removed]",
      "text/plain": [
       "<Figure size 432x288 with 1 Axes>"
      ]
     },
     "metadata": {
      "needs_background": "light"
     },
     "output_type": "display_data"
    },
    {
     "data": {
      "image/png": "[encoded data removed]",
      "text/plain": [
       "<Figure size 432x288 with 1 Axes>"
      ]
     },
     "metadata": {
      "needs_background": "light"
     },
     "output_type": "display_data"
    },
    {
     "data": {
      "image/png": "[encoded data removed]",
      "text/plain": [
       "<Figure size 432x288 with 1 Axes>"
      ]
     },
     "metadata": {
      "needs_background": "light"
     },
     "output_type": "display_data"
    },
    {
     "data": {
      "image/png": "[encoded data removed]",
      "text/plain": [
       "<Figure size 432x288 with 1 Axes>"
      ]
     },
     "metadata": {
      "needs_background": "light"
     },
     "output_type": "display_data"
    },
    {
     "data": {
      "image/png": "[encoded data removed]",
      "text/plain": [
       "<Figure size 432x288 with 1 Axes>"
      ]
     },
     "metadata": {
      "needs_background": "light"
     },
     "output_type": "display_data"
    },
    {
     "data": {
      "image/png": "[encoded data removed]",
      "text/plain": [
       "<Figure size 432x288 with 1 Axes>"
      ]
     },
     "metadata": {
      "needs_background": "light"
     },
     "output_type": "display_data"
    },
    {
     "data": {
      "image/png": "[encoded data removed]",
      "text/plain": [
       "<Figure size 432x288 with 1 Axes>"
      ]
     },
     "metadata": {
      "needs_background": "light"
     },
     "output_type": "display_data"
    },
    {
     "data": {
      "image/png": "[encoded data removed]",
      "text/plain": [
       "<Figure size 432x288 with 1 Axes>"
      ]
     },
     "metadata": {
      "needs_background": "light"
     },
     "output_type": "display_data"
    },
    {
     "data": {
      "image/png": "[encoded data removed]",
      "text/plain": [
       "<Figure size 432x288 with 1 Axes>"
      ]
     },
     "metadata": {
      "needs_background": "light"
     },
     "output_type": "display_data"
    },
    {
     "data": {
      "image/png": "[encoded data removed]",
      "text/plain": [
       "<Figure size 432x288 with 1 Axes>"
      ]
     },
     "metadata": {
      "needs_background": "light"
     },
     "output_type": "display_data"
    },
    {
     "data": {
      "image/png": "[encoded data removed]",
      "text/plain": [
       "<Figure size 432x288 with 1 Axes>"
      ]
     },
     "metadata": {
      "needs_background": "light"
     },
     "output_type": "display_data"
    },
    {
     "data": {
      "image/png": "[encoded data removed]",
      "text/plain": [
       "<Figure size 432x288 with 1 Axes>"
      ]
     },
     "metadata": {
      "needs_background": "light"
     },
     "output_type": "display_data"
    },
    {
     "data": {
      "image/png": "[encoded data removed]",
      "text/plain": [
       "<Figure size 432x288 with 1 Axes>"
      ]
     },
     "metadata": {
      "needs_background": "light"
     },
     "output_type": "display_data"
    },
    {
     "data": {
      "image/png": "[encoded data removed]",
      "text/plain": [
       "<Figure size 432x288 with 1 Axes>"
      ]
     },
     "metadata": {
      "needs_background": "light"
     },
     "output_type": "display_data"
    },
    {
     "data": {
      "image/png": "[encoded data removed]",
      "text/plain": [
       "<Figure size 432x288 with 1 Axes>"
      ]
     },
     "metadata": {
      "needs_background": "light"
     },
     "output_type": "display_data"
    },
    {
     "data": {
      "image/png": "[encoded data removed]",
      "text/plain": [
       "<Figure size 432x288 with 1 Axes>"
      ]
     },
     "metadata": {
      "needs_background": "light"
     },
     "output_type": "display_data"
    },
    {
     "data": {
      "image/png": "[encoded data removed]",
      "text/plain": [
       "<Figure size 432x288 with 1 Axes>"
      ]
     },
     "metadata": {
      "needs_background": "light"
     },
     "output_type": "display_data"
    },
    {
     "data": {
      "image/png": "[encoded data removed]",
      "text/plain": [
       "<Figure size 432x288 with 1 Axes>"
      ]
     },
     "metadata": {
      "needs_background": "light"
     },
     "output_type": "display_data"
    }
   ],
   "source": [
    "# lets check if we have outliers in numeric datatypes\n",
    "\n",
    "for col in train.select_dtypes(include = 'number').columns:\n",
    "    sns.boxplot(train[col])\n",
    "    plt.title(col)\n",
    "    plt.show()"
   ]
  },
  {
   "cell_type": "code",
   "execution_count": null,
   "metadata": {},
   "outputs": [],
   "source": []
  },
  {
   "cell_type": "markdown",
   "metadata": {},
   "source": [
    "## How is log error distributed amongst different fips code?"
   ]
  },
  {
   "cell_type": "code",
   "execution_count": 18,
   "metadata": {},
   "outputs": [
    {
     "data": {
      "text/html": [
       "<div>\n",
       "<style scoped>\n",
       "    .dataframe tbody tr th:only-of-type {\n",
       "        vertical-align: middle;\n",
       "    }\n",
       "\n",
       "    .dataframe tbody tr th {\n",
       "        vertical-align: top;\n",
       "    }\n",
       "\n",
       "    .dataframe thead th {\n",
       "        text-align: right;\n",
       "    }\n",
       "</style>\n",
       "<table border=\"1\" class=\"dataframe\">\n",
       "  <thead>\n",
       "    <tr style=\"text-align: right;\">\n",
       "      <th></th>\n",
       "      <th>count</th>\n",
       "      <th>mean</th>\n",
       "      <th>std</th>\n",
       "      <th>min</th>\n",
       "      <th>25%</th>\n",
       "      <th>50%</th>\n",
       "      <th>75%</th>\n",
       "      <th>max</th>\n",
       "    </tr>\n",
       "    <tr>\n",
       "      <th>fips</th>\n",
       "      <th></th>\n",
       "      <th></th>\n",
       "      <th></th>\n",
       "      <th></th>\n",
       "      <th></th>\n",
       "      <th></th>\n",
       "      <th></th>\n",
       "      <th></th>\n",
       "    </tr>\n",
       "  </thead>\n",
       "  <tbody>\n",
       "    <tr>\n",
       "      <th>6037.0</th>\n",
       "      <td>21651.0</td>\n",
       "      <td>0.015303</td>\n",
       "      <td>0.172120</td>\n",
       "      <td>-4.655420</td>\n",
       "      <td>-0.029759</td>\n",
       "      <td>0.006071</td>\n",
       "      <td>0.042319</td>\n",
       "      <td>5.262999</td>\n",
       "    </tr>\n",
       "    <tr>\n",
       "      <th>6059.0</th>\n",
       "      <td>9044.0</td>\n",
       "      <td>0.025973</td>\n",
       "      <td>0.192413</td>\n",
       "      <td>-2.406257</td>\n",
       "      <td>-0.016985</td>\n",
       "      <td>0.008731</td>\n",
       "      <td>0.039070</td>\n",
       "      <td>2.933328</td>\n",
       "    </tr>\n",
       "    <tr>\n",
       "      <th>6111.0</th>\n",
       "      <td>2813.0</td>\n",
       "      <td>0.012447</td>\n",
       "      <td>0.159733</td>\n",
       "      <td>-2.311473</td>\n",
       "      <td>-0.019509</td>\n",
       "      <td>0.006331</td>\n",
       "      <td>0.035831</td>\n",
       "      <td>2.177363</td>\n",
       "    </tr>\n",
       "  </tbody>\n",
       "</table>\n",
       "</div>"
      ],
      "text/plain": [
       "          count      mean       std       min       25%       50%       75%  \\\n",
       "fips                                                                          \n",
       "6037.0  21651.0  0.015303  0.172120 -4.655420 -0.029759  0.006071  0.042319   \n",
       "6059.0   9044.0  0.025973  0.192413 -2.406257 -0.016985  0.008731  0.039070   \n",
       "6111.0   2813.0  0.012447  0.159733 -2.311473 -0.019509  0.006331  0.035831   \n",
       "\n",
       "             max  \n",
       "fips              \n",
       "6037.0  5.262999  \n",
       "6059.0  2.933328  \n",
       "6111.0  2.177363  "
      ]
     },
     "execution_count": 18,
     "metadata": {},
     "output_type": "execute_result"
    }
   ],
   "source": [
    "# lets groupby our data on fips and get some discriptive stats on log error\n",
    "\n",
    "train.groupby('fips').logerror.describe()\n"
   ]
  },
  {
   "cell_type": "code",
   "execution_count": 19,
   "metadata": {},
   "outputs": [
    {
     "data": {
      "text/plain": [
       "<AxesSubplot:>"
      ]
     },
     "execution_count": 19,
     "metadata": {},
     "output_type": "execute_result"
    },
    {
     "data": {
      "image/png": "[encoded data removed]",
      "text/plain": [
       "<Figure size 432x288 with 1 Axes>"
      ]
     },
     "metadata": {
      "needs_background": "light"
     },
     "output_type": "display_data"
    }
   ],
   "source": [
    "# plotting histogram of the log error in different fips code\n",
    "\n",
    "ax = train[train.fips == 6037.0].logerror.hist(color = 'red')\n",
    "train[train.fips == 6059.0].logerror.hist(ax = ax, color = 'blue')\n",
    "train[train.fips == 6111.0].logerror.hist(ax = ax, color = 'green')"
   ]
  },
  {
   "cell_type": "markdown",
   "metadata": {},
   "source": [
    "**Takeaways:**\n",
    "- The log error seems evenly distributed amongst different fips code. However, the count in one area is significntly higher than the other. And there are few outlies in each"
   ]
  },
  {
   "cell_type": "code",
   "execution_count": 42,
   "metadata": {},
   "outputs": [
    {
     "data": {
      "image/png": "[encoded data removed]",
      "text/plain": [
       "<Figure size 432x288 with 1 Axes>"
      ]
     },
     "metadata": {
      "needs_background": "light"
     },
     "output_type": "display_data"
    },
    {
     "data": {
      "image/png": "[encoded data removed]",
      "text/plain": [
       "<Figure size 432x288 with 1 Axes>"
      ]
     },
     "metadata": {
      "needs_background": "light"
     },
     "output_type": "display_data"
    },
    {
     "data": {
      "image/png": "[encoded data removed]",
      "text/plain": [
       "<Figure size 432x288 with 1 Axes>"
      ]
     },
     "metadata": {
      "needs_background": "light"
     },
     "output_type": "display_data"
    }
   ],
   "source": [
    "# plotting the boxplot of the logerror in different fips code\n",
    "\n",
    "sns.boxplot(train[train.fips == 6037.0].logerror)\n",
    "plt.show()\n",
    "\n",
    "sns.boxplot(train[train.fips == 6059.0].logerror)\n",
    "plt.show()\n",
    "\n",
    "sns.boxplot(train[train.fips == 6111.0].logerror)\n",
    "plt.show()\n"
   ]
  },
  {
   "cell_type": "markdown",
   "metadata": {},
   "source": [
    "\n"
   ]
  },
  {
   "cell_type": "markdown",
   "metadata": {},
   "source": [
    "## Are there zipcode where the logerror is higher  or lower than the average logerror?"
   ]
  },
  {
   "cell_type": "code",
   "execution_count": 22,
   "metadata": {},
   "outputs": [
    {
     "data": {
      "text/html": [
       "<div>\n",
       "<style scoped>\n",
       "    .dataframe tbody tr th:only-of-type {\n",
       "        vertical-align: middle;\n",
       "    }\n",
       "\n",
       "    .dataframe tbody tr th {\n",
       "        vertical-align: top;\n",
       "    }\n",
       "\n",
       "    .dataframe thead th {\n",
       "        text-align: right;\n",
       "    }\n",
       "</style>\n",
       "<table border=\"1\" class=\"dataframe\">\n",
       "  <thead>\n",
       "    <tr style=\"text-align: right;\">\n",
       "      <th></th>\n",
       "      <th>count</th>\n",
       "      <th>mean</th>\n",
       "      <th>std</th>\n",
       "      <th>min</th>\n",
       "      <th>25%</th>\n",
       "      <th>50%</th>\n",
       "      <th>75%</th>\n",
       "      <th>max</th>\n",
       "    </tr>\n",
       "    <tr>\n",
       "      <th>regionidzip</th>\n",
       "      <th></th>\n",
       "      <th></th>\n",
       "      <th></th>\n",
       "      <th></th>\n",
       "      <th></th>\n",
       "      <th></th>\n",
       "      <th></th>\n",
       "      <th></th>\n",
       "    </tr>\n",
       "  </thead>\n",
       "  <tbody>\n",
       "    <tr>\n",
       "      <th>95982.0</th>\n",
       "      <td>48.0</td>\n",
       "      <td>-0.001795</td>\n",
       "      <td>0.260820</td>\n",
       "      <td>-0.697602</td>\n",
       "      <td>-0.066795</td>\n",
       "      <td>-0.027431</td>\n",
       "      <td>0.064303</td>\n",
       "      <td>1.191672</td>\n",
       "    </tr>\n",
       "    <tr>\n",
       "      <th>95983.0</th>\n",
       "      <td>85.0</td>\n",
       "      <td>0.040367</td>\n",
       "      <td>0.167540</td>\n",
       "      <td>-0.264708</td>\n",
       "      <td>-0.046957</td>\n",
       "      <td>0.000375</td>\n",
       "      <td>0.058813</td>\n",
       "      <td>0.603451</td>\n",
       "    </tr>\n",
       "    <tr>\n",
       "      <th>95984.0</th>\n",
       "      <td>92.0</td>\n",
       "      <td>-0.086132</td>\n",
       "      <td>0.338920</td>\n",
       "      <td>-1.053588</td>\n",
       "      <td>-0.070416</td>\n",
       "      <td>-0.009639</td>\n",
       "      <td>0.044072</td>\n",
       "      <td>0.790644</td>\n",
       "    </tr>\n",
       "    <tr>\n",
       "      <th>95985.0</th>\n",
       "      <td>60.0</td>\n",
       "      <td>-0.046318</td>\n",
       "      <td>0.286728</td>\n",
       "      <td>-1.738639</td>\n",
       "      <td>-0.057392</td>\n",
       "      <td>0.004424</td>\n",
       "      <td>0.070262</td>\n",
       "      <td>0.368278</td>\n",
       "    </tr>\n",
       "    <tr>\n",
       "      <th>95986.0</th>\n",
       "      <td>11.0</td>\n",
       "      <td>0.013963</td>\n",
       "      <td>0.118912</td>\n",
       "      <td>-0.166263</td>\n",
       "      <td>-0.044797</td>\n",
       "      <td>-0.026362</td>\n",
       "      <td>0.106953</td>\n",
       "      <td>0.226761</td>\n",
       "    </tr>\n",
       "    <tr>\n",
       "      <th>...</th>\n",
       "      <td>...</td>\n",
       "      <td>...</td>\n",
       "      <td>...</td>\n",
       "      <td>...</td>\n",
       "      <td>...</td>\n",
       "      <td>...</td>\n",
       "      <td>...</td>\n",
       "      <td>...</td>\n",
       "    </tr>\n",
       "    <tr>\n",
       "      <th>97329.0</th>\n",
       "      <td>371.0</td>\n",
       "      <td>0.016273</td>\n",
       "      <td>0.128056</td>\n",
       "      <td>-0.382067</td>\n",
       "      <td>-0.022143</td>\n",
       "      <td>0.004909</td>\n",
       "      <td>0.031696</td>\n",
       "      <td>1.609746</td>\n",
       "    </tr>\n",
       "    <tr>\n",
       "      <th>97330.0</th>\n",
       "      <td>222.0</td>\n",
       "      <td>0.006543</td>\n",
       "      <td>0.134545</td>\n",
       "      <td>-0.423369</td>\n",
       "      <td>-0.032952</td>\n",
       "      <td>-0.003221</td>\n",
       "      <td>0.015736</td>\n",
       "      <td>1.332930</td>\n",
       "    </tr>\n",
       "    <tr>\n",
       "      <th>97331.0</th>\n",
       "      <td>9.0</td>\n",
       "      <td>0.014336</td>\n",
       "      <td>0.145481</td>\n",
       "      <td>-0.166361</td>\n",
       "      <td>-0.043370</td>\n",
       "      <td>-0.031492</td>\n",
       "      <td>0.118517</td>\n",
       "      <td>0.269494</td>\n",
       "    </tr>\n",
       "    <tr>\n",
       "      <th>97344.0</th>\n",
       "      <td>25.0</td>\n",
       "      <td>0.011087</td>\n",
       "      <td>0.175447</td>\n",
       "      <td>-0.304936</td>\n",
       "      <td>-0.099046</td>\n",
       "      <td>-0.006650</td>\n",
       "      <td>0.082676</td>\n",
       "      <td>0.590794</td>\n",
       "    </tr>\n",
       "    <tr>\n",
       "      <th>399675.0</th>\n",
       "      <td>9.0</td>\n",
       "      <td>-0.028340</td>\n",
       "      <td>0.224533</td>\n",
       "      <td>-0.606399</td>\n",
       "      <td>-0.002223</td>\n",
       "      <td>0.028673</td>\n",
       "      <td>0.050940</td>\n",
       "      <td>0.181523</td>\n",
       "    </tr>\n",
       "  </tbody>\n",
       "</table>\n",
       "<p>380 rows × 8 columns</p>\n",
       "</div>"
      ],
      "text/plain": [
       "             count      mean       std       min       25%       50%  \\\n",
       "regionidzip                                                            \n",
       "95982.0       48.0 -0.001795  0.260820 -0.697602 -0.066795 -0.027431   \n",
       "95983.0       85.0  0.040367  0.167540 -0.264708 -0.046957  0.000375   \n",
       "95984.0       92.0 -0.086132  0.338920 -1.053588 -0.070416 -0.009639   \n",
       "95985.0       60.0 -0.046318  0.286728 -1.738639 -0.057392  0.004424   \n",
       "95986.0       11.0  0.013963  0.118912 -0.166263 -0.044797 -0.026362   \n",
       "...            ...       ...       ...       ...       ...       ...   \n",
       "97329.0      371.0  0.016273  0.128056 -0.382067 -0.022143  0.004909   \n",
       "97330.0      222.0  0.006543  0.134545 -0.423369 -0.032952 -0.003221   \n",
       "97331.0        9.0  0.014336  0.145481 -0.166361 -0.043370 -0.031492   \n",
       "97344.0       25.0  0.011087  0.175447 -0.304936 -0.099046 -0.006650   \n",
       "399675.0       9.0 -0.028340  0.224533 -0.606399 -0.002223  0.028673   \n",
       "\n",
       "                  75%       max  \n",
       "regionidzip                      \n",
       "95982.0      0.064303  1.191672  \n",
       "95983.0      0.058813  0.603451  \n",
       "95984.0      0.044072  0.790644  \n",
       "95985.0      0.070262  0.368278  \n",
       "95986.0      0.106953  0.226761  \n",
       "...               ...       ...  \n",
       "97329.0      0.031696  1.609746  \n",
       "97330.0      0.015736  1.332930  \n",
       "97331.0      0.118517  0.269494  \n",
       "97344.0      0.082676  0.590794  \n",
       "399675.0     0.050940  0.181523  \n",
       "\n",
       "[380 rows x 8 columns]"
      ]
     },
     "execution_count": 22,
     "metadata": {},
     "output_type": "execute_result"
    }
   ],
   "source": [
    "train.groupby('regionidzip').logerror.describe()"
   ]
  },
  {
   "cell_type": "code",
   "execution_count": 23,
   "metadata": {},
   "outputs": [],
   "source": [
    "from scipy import stats"
   ]
  },
  {
   "cell_type": "code",
   "execution_count": 118,
   "metadata": {},
   "outputs": [],
   "source": [
    "# creating a function that runs a one sample t test and returns a list of zipcode with higher\n",
    "# mean and lower mean compared to the overall average\n",
    "\n",
    "\n",
    "def get_zip_with_high_logerror(df):\n",
    "    zipcode = []\n",
    "    for val in df.regionidzip.unique():\n",
    "        a = 0.025\n",
    "        x1 = df[df.regionidzip == val].logerror\n",
    "        x2 = df.logerror\n",
    "        t, p = stats.ttest_1samp(x1, x2.mean())\n",
    "        if (t > 0) & (p < a):\n",
    "            zipcode.append(val)\n",
    "        \n",
    "    return zipcode\n",
    "def get_zip_with_low_logerror(df):\n",
    "    zipcode = []\n",
    "    for val in df.regionidzip.unique():\n",
    "        a = 0.025\n",
    "        x1 = df[df.regionidzip == val].logerror\n",
    "        x2 = df.logerror\n",
    "        t, p = stats.ttest_1samp(x1, x2.mean())\n",
    "        if (t < 0) & (p < a):\n",
    "            zipcode.append(val)\n",
    "        \n",
    "    return zipcode"
   ]
  },
  {
   "cell_type": "code",
   "execution_count": 119,
   "metadata": {},
   "outputs": [
    {
     "name": "stdout",
     "output_type": "stream",
     "text": [
      "[96505.0, 96985.0, 96379.0, 96197.0, 96217.0, 96244.0, 96951.0]\n",
      "\n",
      "[96120.0, 96242.0, 96398.0, 96415.0, 96171.0, 96005.0, 96020.0, 96293.0, 95997.0, 95984.0, 96280.0, 96026.0, 96047.0, 95989.0, 96294.0, 96326.0, 96043.0, 96943.0, 96152.0, 96097.0, 96007.0, 96134.0, 96137.0, 96237.0]\n"
     ]
    }
   ],
   "source": [
    "high_zipcode = get_zip_with_high_logerror(train)\n",
    "\n",
    "low_zipcode = get_zip_with_low_logerror(train)\n",
    "\n",
    "print(high_zipcode)\n",
    "print()\n",
    "\n",
    "print(low_zipcode)"
   ]
  },
  {
   "cell_type": "markdown",
   "metadata": {},
   "source": [
    "**Takeaways:**\n",
    "    - there are certain zipcodes where the log error is significantly higher than the average logerror\n",
    "    - and there are certain zipcodes where the log error is significantly lower than the average logerror"
   ]
  },
  {
   "cell_type": "code",
   "execution_count": 85,
   "metadata": {},
   "outputs": [
    {
     "data": {
      "image/png": "[encoded data removed]",
      "text/plain": [
       "<Figure size 432x288 with 1 Axes>"
      ]
     },
     "metadata": {
      "needs_background": "light"
     },
     "output_type": "display_data"
    }
   ],
   "source": [
    "# Is certain bathroom count contributing to higher logerror?\n",
    "\n",
    "for code in high_zipcode:\n",
    "    plt.scatter(train[train.regionidzip == code].bathroomcnt, train[train.regionidzip == code].logerror)\n",
    "    plt.title('Is specific bathroom count contributing to high logerror?')\n",
    "    \n",
    "   "
   ]
  },
  {
   "cell_type": "code",
   "execution_count": 86,
   "metadata": {},
   "outputs": [
    {
     "data": {
      "image/png": "[encoded data removed]",
      "text/plain": [
       "<Figure size 432x288 with 1 Axes>"
      ]
     },
     "metadata": {
      "needs_background": "light"
     },
     "output_type": "display_data"
    }
   ],
   "source": [
    "for code in high_zipcode:\n",
    "    plt.scatter(train[train.regionidzip == code].bedroomcnt, train[train.regionidzip == code].logerror)\n",
    "    plt.title('Is specific bedroom count contributing to high logerror?')"
   ]
  },
  {
   "cell_type": "code",
   "execution_count": 87,
   "metadata": {},
   "outputs": [
    {
     "data": {
      "image/png": "[encoded data removed]",
      "text/plain": [
       "<Figure size 432x288 with 1 Axes>"
      ]
     },
     "metadata": {
      "needs_background": "light"
     },
     "output_type": "display_data"
    }
   ],
   "source": [
    "for code in high_zipcode:\n",
    "    plt.scatter(train[train.regionidzip == code].calculatedfinishedsquarefeet, train[train.regionidzip == code].logerror)\n",
    "    plt.title('Is there certain square footage contributing to higher log error?')\n",
    "    \n",
    "#     train.calculatedfinishedsquarefeet.hist(ax = ax)\n"
   ]
  },
  {
   "cell_type": "code",
   "execution_count": 91,
   "metadata": {},
   "outputs": [
    {
     "data": {
      "image/png": "[encoded data removed]",
      "text/plain": [
       "<Figure size 432x288 with 1 Axes>"
      ]
     },
     "metadata": {
      "needs_background": "light"
     },
     "output_type": "display_data"
    }
   ],
   "source": [
    "for code in low_zipcode:\n",
    "    plt.scatter(train[train.regionidzip == code].bathroomcnt, train[train.regionidzip == code].logerror)\n",
    "    plt.title('Is specific bathroom count contributing to low logerror?')"
   ]
  },
  {
   "cell_type": "code",
   "execution_count": 92,
   "metadata": {},
   "outputs": [
    {
     "data": {
      "image/png": "[encoded data removed]",
      "text/plain": [
       "<Figure size 432x288 with 1 Axes>"
      ]
     },
     "metadata": {
      "needs_background": "light"
     },
     "output_type": "display_data"
    }
   ],
   "source": [
    "for code in low_zipcode:\n",
    "    plt.scatter(train[train.regionidzip == code].bedroomcnt, train[train.regionidzip == code].logerror)\n",
    "    plt.title('Is specific bedroom count contributing to low logerror?')"
   ]
  },
  {
   "cell_type": "code",
   "execution_count": 93,
   "metadata": {},
   "outputs": [
    {
     "data": {
      "image/png": "[encoded data removed]",
      "text/plain": [
       "<Figure size 432x288 with 1 Axes>"
      ]
     },
     "metadata": {
      "needs_background": "light"
     },
     "output_type": "display_data"
    }
   ],
   "source": [
    "for code in low_zipcode:\n",
    "    plt.scatter(train[train.regionidzip == code].calculatedfinishedsquarefeet, train[train.regionidzip == code].logerror)\n",
    "    plt.title('Is there certain square footage contributing to low log error?')"
   ]
  },
  {
   "cell_type": "code",
   "execution_count": 51,
   "metadata": {},
   "outputs": [
    {
     "data": {
      "text/plain": [
       "Text(0.5, 1.0, 'lat vs long')"
      ]
     },
     "execution_count": 51,
     "metadata": {},
     "output_type": "execute_result"
    },
    {
     "data": {
      "image/png": "[encoded data removed]",
      "text/plain": [
       "<Figure size 432x288 with 1 Axes>"
      ]
     },
     "metadata": {
      "needs_background": "light"
     },
     "output_type": "display_data"
    }
   ],
   "source": [
    "plt.scatter(train[train.fips == 6037.0].latitude, train[train.fips == 6037.0].longitude)\n",
    "\n",
    "plt.scatter(train[train.fips == 6059.0].latitude, train[train.fips == 6059.0].longitude)\n",
    "\n",
    "plt.scatter(train[train.fips == 6111.0].latitude, train[train.fips == 6111.0].longitude)\n",
    "plt.title('lat vs long')"
   ]
  },
  {
   "cell_type": "markdown",
   "metadata": {},
   "source": [
    "Takeaways:\n",
    "- theres is a clear distinction between different fips except blue. there are observations that are clearly outliers\n",
    "    \n",
    "    "
   ]
  },
  {
   "cell_type": "markdown",
   "metadata": {},
   "source": [
    "### How does number of bathroom count influence avg log error"
   ]
  },
  {
   "cell_type": "code",
   "execution_count": 117,
   "metadata": {},
   "outputs": [
    {
     "data": {
      "image/png": "[encoded data removed]",
      "text/plain": [
       "<Figure size 432x288 with 1 Axes>"
      ]
     },
     "metadata": {
      "needs_background": "light"
     },
     "output_type": "display_data"
    }
   ],
   "source": [
    "val =[1,2,3,4,5,6,7, 8, 9, 10]\n",
    "for num in val:\n",
    "    plt.scatter(num, train[train.bathroomcnt == num].logerror.mean())\n",
    "    plt.title('How does number of bathroom  influence avg logerror')\n",
    "    plt.xlabel('bathroom count')\n",
    "    plt.ylabel('average logerror')"
   ]
  },
  {
   "cell_type": "markdown",
   "metadata": {},
   "source": [
    "Takeaway:\n",
    "- as the number of bathroom increases, the log error increases to positive and then drops significantly to negative for 9 and 10"
   ]
  },
  {
   "cell_type": "markdown",
   "metadata": {},
   "source": [
    "### How does number of bedroom count influence avg log error"
   ]
  },
  {
   "cell_type": "code",
   "execution_count": 115,
   "metadata": {},
   "outputs": [
    {
     "data": {
      "image/png": "[encoded data removed]",
      "text/plain": [
       "<Figure size 432x288 with 1 Axes>"
      ]
     },
     "metadata": {
      "needs_background": "light"
     },
     "output_type": "display_data"
    }
   ],
   "source": [
    "val =[1,2,3,4,5,6,7, 8, 9, 10]\n",
    "for num in val:\n",
    "    plt.scatter(num, train[train.bedroomcnt == num].logerror.mean())\n",
    "    plt.xlabel('bedroom count')\n",
    "    plt.ylabel('average logerror')\n",
    "    \n",
    "    plt.title('How does number of bedroom influence average logerror ')"
   ]
  },
  {
   "cell_type": "markdown",
   "metadata": {},
   "source": [
    "takeaways:\n",
    "- as the number of bedroom increases the logerror increases and as the count gets higher (7,8,9,10), the average log error is significantly higher"
   ]
  },
  {
   "cell_type": "code",
   "execution_count": null,
   "metadata": {},
   "outputs": [],
   "source": []
  }
 ],
 "metadata": {
  "kernelspec": {
   "display_name": "Python 3",
   "language": "python",
   "name": "python3"
  },
  "language_info": {
   "codemirror_mode": {
    "name": "ipython",
    "version": 3
   },
   "file_extension": ".py",
   "mimetype": "text/x-python",
   "name": "python",
   "nbconvert_exporter": "python",
   "pygments_lexer": "ipython3",
   "version": "3.7.6"
  }
 },
 "nbformat": 4,
 "nbformat_minor": 4
}
