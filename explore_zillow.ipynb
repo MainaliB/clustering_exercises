{
 "cells": [
  {
   "cell_type": "code",
   "execution_count": 82,
   "metadata": {},
   "outputs": [],
   "source": [
    "import acquire\n",
    "import pandas as pd\n",
    "import wrangle_zillow\n",
    "import matplotlib.pyplot as plt\n",
    "import seaborn as sns\n",
    "import warnings\n",
    "warnings.filterwarnings(\"ignore\")"
   ]
  },
  {
   "cell_type": "code",
   "execution_count": 83,
   "metadata": {},
   "outputs": [],
   "source": [
    "# acquiring the zillow data set\n",
    "\n",
    "df = acquire.get_data()"
   ]
  },
  {
   "cell_type": "code",
   "execution_count": 84,
   "metadata": {},
   "outputs": [],
   "source": [
    "# removing duplicate columns and getting only the single unit properties\n",
    "\n",
    "zillow = wrangle_zillow.get_single_unit(df)"
   ]
  },
  {
   "cell_type": "code",
   "execution_count": 85,
   "metadata": {},
   "outputs": [
    {
     "data": {
      "text/html": [
       "<div>\n",
       "<style scoped>\n",
       "    .dataframe tbody tr th:only-of-type {\n",
       "        vertical-align: middle;\n",
       "    }\n",
       "\n",
       "    .dataframe tbody tr th {\n",
       "        vertical-align: top;\n",
       "    }\n",
       "\n",
       "    .dataframe thead th {\n",
       "        text-align: right;\n",
       "    }\n",
       "</style>\n",
       "<table border=\"1\" class=\"dataframe\">\n",
       "  <thead>\n",
       "    <tr style=\"text-align: right;\">\n",
       "      <th></th>\n",
       "      <th>id</th>\n",
       "      <th>parcelid</th>\n",
       "      <th>airconditioningtypeid</th>\n",
       "      <th>architecturalstyletypeid</th>\n",
       "      <th>basementsqft</th>\n",
       "      <th>bathroomcnt</th>\n",
       "      <th>bedroomcnt</th>\n",
       "      <th>buildingclasstypeid</th>\n",
       "      <th>buildingqualitytypeid</th>\n",
       "      <th>calculatedbathnbr</th>\n",
       "      <th>...</th>\n",
       "      <th>censustractandblock</th>\n",
       "      <th>logerror</th>\n",
       "      <th>transactiondate</th>\n",
       "      <th>buildingclassdesc</th>\n",
       "      <th>propertylandusedesc</th>\n",
       "      <th>airconditioningdesc</th>\n",
       "      <th>architecturalstyledesc</th>\n",
       "      <th>heatingorsystemdesc</th>\n",
       "      <th>storydesc</th>\n",
       "      <th>typeconstructiondesc</th>\n",
       "    </tr>\n",
       "  </thead>\n",
       "  <tbody>\n",
       "    <tr>\n",
       "      <th>0</th>\n",
       "      <td>1727539</td>\n",
       "      <td>14297519</td>\n",
       "      <td>NaN</td>\n",
       "      <td>NaN</td>\n",
       "      <td>NaN</td>\n",
       "      <td>3.5</td>\n",
       "      <td>4.0</td>\n",
       "      <td>NaN</td>\n",
       "      <td>NaN</td>\n",
       "      <td>3.5</td>\n",
       "      <td>...</td>\n",
       "      <td>6.059063e+13</td>\n",
       "      <td>0.025595</td>\n",
       "      <td>2017-01-01</td>\n",
       "      <td>None</td>\n",
       "      <td>Single Family Residential</td>\n",
       "      <td>None</td>\n",
       "      <td>None</td>\n",
       "      <td>None</td>\n",
       "      <td>None</td>\n",
       "      <td>None</td>\n",
       "    </tr>\n",
       "    <tr>\n",
       "      <th>1</th>\n",
       "      <td>1387261</td>\n",
       "      <td>17052889</td>\n",
       "      <td>NaN</td>\n",
       "      <td>NaN</td>\n",
       "      <td>NaN</td>\n",
       "      <td>1.0</td>\n",
       "      <td>2.0</td>\n",
       "      <td>NaN</td>\n",
       "      <td>NaN</td>\n",
       "      <td>1.0</td>\n",
       "      <td>...</td>\n",
       "      <td>6.111001e+13</td>\n",
       "      <td>0.055619</td>\n",
       "      <td>2017-01-01</td>\n",
       "      <td>None</td>\n",
       "      <td>Single Family Residential</td>\n",
       "      <td>None</td>\n",
       "      <td>None</td>\n",
       "      <td>None</td>\n",
       "      <td>None</td>\n",
       "      <td>None</td>\n",
       "    </tr>\n",
       "    <tr>\n",
       "      <th>2</th>\n",
       "      <td>11677</td>\n",
       "      <td>14186244</td>\n",
       "      <td>NaN</td>\n",
       "      <td>NaN</td>\n",
       "      <td>NaN</td>\n",
       "      <td>2.0</td>\n",
       "      <td>3.0</td>\n",
       "      <td>NaN</td>\n",
       "      <td>NaN</td>\n",
       "      <td>2.0</td>\n",
       "      <td>...</td>\n",
       "      <td>6.059022e+13</td>\n",
       "      <td>0.005383</td>\n",
       "      <td>2017-01-01</td>\n",
       "      <td>None</td>\n",
       "      <td>Single Family Residential</td>\n",
       "      <td>None</td>\n",
       "      <td>None</td>\n",
       "      <td>None</td>\n",
       "      <td>None</td>\n",
       "      <td>None</td>\n",
       "    </tr>\n",
       "    <tr>\n",
       "      <th>3</th>\n",
       "      <td>2288172</td>\n",
       "      <td>12177905</td>\n",
       "      <td>NaN</td>\n",
       "      <td>NaN</td>\n",
       "      <td>NaN</td>\n",
       "      <td>3.0</td>\n",
       "      <td>4.0</td>\n",
       "      <td>NaN</td>\n",
       "      <td>8.0</td>\n",
       "      <td>3.0</td>\n",
       "      <td>...</td>\n",
       "      <td>6.037300e+13</td>\n",
       "      <td>-0.103410</td>\n",
       "      <td>2017-01-01</td>\n",
       "      <td>None</td>\n",
       "      <td>Single Family Residential</td>\n",
       "      <td>None</td>\n",
       "      <td>None</td>\n",
       "      <td>Central</td>\n",
       "      <td>None</td>\n",
       "      <td>None</td>\n",
       "    </tr>\n",
       "    <tr>\n",
       "      <th>6</th>\n",
       "      <td>781532</td>\n",
       "      <td>12095076</td>\n",
       "      <td>1.0</td>\n",
       "      <td>NaN</td>\n",
       "      <td>NaN</td>\n",
       "      <td>3.0</td>\n",
       "      <td>4.0</td>\n",
       "      <td>NaN</td>\n",
       "      <td>9.0</td>\n",
       "      <td>3.0</td>\n",
       "      <td>...</td>\n",
       "      <td>6.037461e+13</td>\n",
       "      <td>-0.001011</td>\n",
       "      <td>2017-01-01</td>\n",
       "      <td>None</td>\n",
       "      <td>Single Family Residential</td>\n",
       "      <td>Central</td>\n",
       "      <td>None</td>\n",
       "      <td>Central</td>\n",
       "      <td>None</td>\n",
       "      <td>None</td>\n",
       "    </tr>\n",
       "    <tr>\n",
       "      <th>...</th>\n",
       "      <td>...</td>\n",
       "      <td>...</td>\n",
       "      <td>...</td>\n",
       "      <td>...</td>\n",
       "      <td>...</td>\n",
       "      <td>...</td>\n",
       "      <td>...</td>\n",
       "      <td>...</td>\n",
       "      <td>...</td>\n",
       "      <td>...</td>\n",
       "      <td>...</td>\n",
       "      <td>...</td>\n",
       "      <td>...</td>\n",
       "      <td>...</td>\n",
       "      <td>...</td>\n",
       "      <td>...</td>\n",
       "      <td>...</td>\n",
       "      <td>...</td>\n",
       "      <td>...</td>\n",
       "      <td>...</td>\n",
       "      <td>...</td>\n",
       "    </tr>\n",
       "    <tr>\n",
       "      <th>77409</th>\n",
       "      <td>673515</td>\n",
       "      <td>11000655</td>\n",
       "      <td>NaN</td>\n",
       "      <td>NaN</td>\n",
       "      <td>NaN</td>\n",
       "      <td>2.0</td>\n",
       "      <td>2.0</td>\n",
       "      <td>NaN</td>\n",
       "      <td>6.0</td>\n",
       "      <td>2.0</td>\n",
       "      <td>...</td>\n",
       "      <td>6.037101e+13</td>\n",
       "      <td>0.020615</td>\n",
       "      <td>2017-09-20</td>\n",
       "      <td>None</td>\n",
       "      <td>Single Family Residential</td>\n",
       "      <td>None</td>\n",
       "      <td>None</td>\n",
       "      <td>Central</td>\n",
       "      <td>None</td>\n",
       "      <td>None</td>\n",
       "    </tr>\n",
       "    <tr>\n",
       "      <th>77410</th>\n",
       "      <td>2968375</td>\n",
       "      <td>17239384</td>\n",
       "      <td>NaN</td>\n",
       "      <td>NaN</td>\n",
       "      <td>NaN</td>\n",
       "      <td>2.0</td>\n",
       "      <td>4.0</td>\n",
       "      <td>NaN</td>\n",
       "      <td>NaN</td>\n",
       "      <td>2.0</td>\n",
       "      <td>...</td>\n",
       "      <td>6.111008e+13</td>\n",
       "      <td>0.013209</td>\n",
       "      <td>2017-09-21</td>\n",
       "      <td>None</td>\n",
       "      <td>Single Family Residential</td>\n",
       "      <td>None</td>\n",
       "      <td>None</td>\n",
       "      <td>None</td>\n",
       "      <td>None</td>\n",
       "      <td>None</td>\n",
       "    </tr>\n",
       "    <tr>\n",
       "      <th>77411</th>\n",
       "      <td>1843709</td>\n",
       "      <td>12773139</td>\n",
       "      <td>1.0</td>\n",
       "      <td>NaN</td>\n",
       "      <td>NaN</td>\n",
       "      <td>1.0</td>\n",
       "      <td>3.0</td>\n",
       "      <td>NaN</td>\n",
       "      <td>4.0</td>\n",
       "      <td>1.0</td>\n",
       "      <td>...</td>\n",
       "      <td>6.037434e+13</td>\n",
       "      <td>0.037129</td>\n",
       "      <td>2017-09-21</td>\n",
       "      <td>None</td>\n",
       "      <td>Single Family Residential</td>\n",
       "      <td>Central</td>\n",
       "      <td>None</td>\n",
       "      <td>Central</td>\n",
       "      <td>None</td>\n",
       "      <td>None</td>\n",
       "    </tr>\n",
       "    <tr>\n",
       "      <th>77412</th>\n",
       "      <td>1187175</td>\n",
       "      <td>12826780</td>\n",
       "      <td>NaN</td>\n",
       "      <td>NaN</td>\n",
       "      <td>NaN</td>\n",
       "      <td>2.0</td>\n",
       "      <td>3.0</td>\n",
       "      <td>NaN</td>\n",
       "      <td>6.0</td>\n",
       "      <td>2.0</td>\n",
       "      <td>...</td>\n",
       "      <td>6.037503e+13</td>\n",
       "      <td>0.007204</td>\n",
       "      <td>2017-09-25</td>\n",
       "      <td>None</td>\n",
       "      <td>Single Family Residential</td>\n",
       "      <td>None</td>\n",
       "      <td>None</td>\n",
       "      <td>Central</td>\n",
       "      <td>None</td>\n",
       "      <td>None</td>\n",
       "    </tr>\n",
       "    <tr>\n",
       "      <th>77413</th>\n",
       "      <td>2455685</td>\n",
       "      <td>13083743</td>\n",
       "      <td>NaN</td>\n",
       "      <td>NaN</td>\n",
       "      <td>NaN</td>\n",
       "      <td>2.0</td>\n",
       "      <td>3.0</td>\n",
       "      <td>NaN</td>\n",
       "      <td>4.0</td>\n",
       "      <td>2.0</td>\n",
       "      <td>...</td>\n",
       "      <td>6.037408e+13</td>\n",
       "      <td>-0.197755</td>\n",
       "      <td>2018-05-25</td>\n",
       "      <td>None</td>\n",
       "      <td>Single Family Residential</td>\n",
       "      <td>None</td>\n",
       "      <td>None</td>\n",
       "      <td>Floor/Wall</td>\n",
       "      <td>None</td>\n",
       "      <td>None</td>\n",
       "    </tr>\n",
       "  </tbody>\n",
       "</table>\n",
       "<p>52357 rows × 68 columns</p>\n",
       "</div>"
      ],
      "text/plain": [
       "            id  parcelid  airconditioningtypeid  architecturalstyletypeid  \\\n",
       "0      1727539  14297519                    NaN                       NaN   \n",
       "1      1387261  17052889                    NaN                       NaN   \n",
       "2        11677  14186244                    NaN                       NaN   \n",
       "3      2288172  12177905                    NaN                       NaN   \n",
       "6       781532  12095076                    1.0                       NaN   \n",
       "...        ...       ...                    ...                       ...   \n",
       "77409   673515  11000655                    NaN                       NaN   \n",
       "77410  2968375  17239384                    NaN                       NaN   \n",
       "77411  1843709  12773139                    1.0                       NaN   \n",
       "77412  1187175  12826780                    NaN                       NaN   \n",
       "77413  2455685  13083743                    NaN                       NaN   \n",
       "\n",
       "       basementsqft  bathroomcnt  bedroomcnt  buildingclasstypeid  \\\n",
       "0               NaN          3.5         4.0                  NaN   \n",
       "1               NaN          1.0         2.0                  NaN   \n",
       "2               NaN          2.0         3.0                  NaN   \n",
       "3               NaN          3.0         4.0                  NaN   \n",
       "6               NaN          3.0         4.0                  NaN   \n",
       "...             ...          ...         ...                  ...   \n",
       "77409           NaN          2.0         2.0                  NaN   \n",
       "77410           NaN          2.0         4.0                  NaN   \n",
       "77411           NaN          1.0         3.0                  NaN   \n",
       "77412           NaN          2.0         3.0                  NaN   \n",
       "77413           NaN          2.0         3.0                  NaN   \n",
       "\n",
       "       buildingqualitytypeid  calculatedbathnbr  ...  censustractandblock  \\\n",
       "0                        NaN                3.5  ...         6.059063e+13   \n",
       "1                        NaN                1.0  ...         6.111001e+13   \n",
       "2                        NaN                2.0  ...         6.059022e+13   \n",
       "3                        8.0                3.0  ...         6.037300e+13   \n",
       "6                        9.0                3.0  ...         6.037461e+13   \n",
       "...                      ...                ...  ...                  ...   \n",
       "77409                    6.0                2.0  ...         6.037101e+13   \n",
       "77410                    NaN                2.0  ...         6.111008e+13   \n",
       "77411                    4.0                1.0  ...         6.037434e+13   \n",
       "77412                    6.0                2.0  ...         6.037503e+13   \n",
       "77413                    4.0                2.0  ...         6.037408e+13   \n",
       "\n",
       "       logerror  transactiondate  buildingclassdesc  \\\n",
       "0      0.025595       2017-01-01               None   \n",
       "1      0.055619       2017-01-01               None   \n",
       "2      0.005383       2017-01-01               None   \n",
       "3     -0.103410       2017-01-01               None   \n",
       "6     -0.001011       2017-01-01               None   \n",
       "...         ...              ...                ...   \n",
       "77409  0.020615       2017-09-20               None   \n",
       "77410  0.013209       2017-09-21               None   \n",
       "77411  0.037129       2017-09-21               None   \n",
       "77412  0.007204       2017-09-25               None   \n",
       "77413 -0.197755       2018-05-25               None   \n",
       "\n",
       "             propertylandusedesc  airconditioningdesc  architecturalstyledesc  \\\n",
       "0      Single Family Residential                 None                    None   \n",
       "1      Single Family Residential                 None                    None   \n",
       "2      Single Family Residential                 None                    None   \n",
       "3      Single Family Residential                 None                    None   \n",
       "6      Single Family Residential              Central                    None   \n",
       "...                          ...                  ...                     ...   \n",
       "77409  Single Family Residential                 None                    None   \n",
       "77410  Single Family Residential                 None                    None   \n",
       "77411  Single Family Residential              Central                    None   \n",
       "77412  Single Family Residential                 None                    None   \n",
       "77413  Single Family Residential                 None                    None   \n",
       "\n",
       "       heatingorsystemdesc  storydesc  typeconstructiondesc  \n",
       "0                     None       None                  None  \n",
       "1                     None       None                  None  \n",
       "2                     None       None                  None  \n",
       "3                  Central       None                  None  \n",
       "6                  Central       None                  None  \n",
       "...                    ...        ...                   ...  \n",
       "77409              Central       None                  None  \n",
       "77410                 None       None                  None  \n",
       "77411              Central       None                  None  \n",
       "77412              Central       None                  None  \n",
       "77413           Floor/Wall       None                  None  \n",
       "\n",
       "[52357 rows x 68 columns]"
      ]
     },
     "execution_count": 85,
     "metadata": {},
     "output_type": "execute_result"
    }
   ],
   "source": [
    "zillow"
   ]
  },
  {
   "cell_type": "code",
   "execution_count": 86,
   "metadata": {},
   "outputs": [],
   "source": [
    "# handling the missing values by requiring both columns and rows to have atleast 90% value\n",
    "\n",
    "zillow = wrangle_zillow.handle_missing_values(zillow, .8, .6)"
   ]
  },
  {
   "cell_type": "code",
   "execution_count": 87,
   "metadata": {},
   "outputs": [
    {
     "data": {
      "text/html": [
       "<div>\n",
       "<style scoped>\n",
       "    .dataframe tbody tr th:only-of-type {\n",
       "        vertical-align: middle;\n",
       "    }\n",
       "\n",
       "    .dataframe tbody tr th {\n",
       "        vertical-align: top;\n",
       "    }\n",
       "\n",
       "    .dataframe thead th {\n",
       "        text-align: right;\n",
       "    }\n",
       "</style>\n",
       "<table border=\"1\" class=\"dataframe\">\n",
       "  <thead>\n",
       "    <tr style=\"text-align: right;\">\n",
       "      <th></th>\n",
       "      <th>id</th>\n",
       "      <th>parcelid</th>\n",
       "      <th>bathroomcnt</th>\n",
       "      <th>bedroomcnt</th>\n",
       "      <th>calculatedbathnbr</th>\n",
       "      <th>calculatedfinishedsquarefeet</th>\n",
       "      <th>finishedsquarefeet12</th>\n",
       "      <th>fips</th>\n",
       "      <th>fullbathcnt</th>\n",
       "      <th>latitude</th>\n",
       "      <th>...</th>\n",
       "      <th>yearbuilt</th>\n",
       "      <th>structuretaxvaluedollarcnt</th>\n",
       "      <th>taxvaluedollarcnt</th>\n",
       "      <th>assessmentyear</th>\n",
       "      <th>landtaxvaluedollarcnt</th>\n",
       "      <th>taxamount</th>\n",
       "      <th>censustractandblock</th>\n",
       "      <th>logerror</th>\n",
       "      <th>transactiondate</th>\n",
       "      <th>propertylandusedesc</th>\n",
       "    </tr>\n",
       "  </thead>\n",
       "  <tbody>\n",
       "    <tr>\n",
       "      <th>0</th>\n",
       "      <td>1727539</td>\n",
       "      <td>14297519</td>\n",
       "      <td>3.5</td>\n",
       "      <td>4.0</td>\n",
       "      <td>3.5</td>\n",
       "      <td>3100.0</td>\n",
       "      <td>3100.0</td>\n",
       "      <td>6059.0</td>\n",
       "      <td>3.0</td>\n",
       "      <td>33634931.0</td>\n",
       "      <td>...</td>\n",
       "      <td>1998.0</td>\n",
       "      <td>485713.0</td>\n",
       "      <td>1023282.0</td>\n",
       "      <td>2016.0</td>\n",
       "      <td>537569.0</td>\n",
       "      <td>11013.72</td>\n",
       "      <td>6.059063e+13</td>\n",
       "      <td>0.025595</td>\n",
       "      <td>2017-01-01</td>\n",
       "      <td>Single Family Residential</td>\n",
       "    </tr>\n",
       "    <tr>\n",
       "      <th>1</th>\n",
       "      <td>1387261</td>\n",
       "      <td>17052889</td>\n",
       "      <td>1.0</td>\n",
       "      <td>2.0</td>\n",
       "      <td>1.0</td>\n",
       "      <td>1465.0</td>\n",
       "      <td>1465.0</td>\n",
       "      <td>6111.0</td>\n",
       "      <td>1.0</td>\n",
       "      <td>34449266.0</td>\n",
       "      <td>...</td>\n",
       "      <td>1967.0</td>\n",
       "      <td>88000.0</td>\n",
       "      <td>464000.0</td>\n",
       "      <td>2016.0</td>\n",
       "      <td>376000.0</td>\n",
       "      <td>5672.48</td>\n",
       "      <td>6.111001e+13</td>\n",
       "      <td>0.055619</td>\n",
       "      <td>2017-01-01</td>\n",
       "      <td>Single Family Residential</td>\n",
       "    </tr>\n",
       "    <tr>\n",
       "      <th>2</th>\n",
       "      <td>11677</td>\n",
       "      <td>14186244</td>\n",
       "      <td>2.0</td>\n",
       "      <td>3.0</td>\n",
       "      <td>2.0</td>\n",
       "      <td>1243.0</td>\n",
       "      <td>1243.0</td>\n",
       "      <td>6059.0</td>\n",
       "      <td>2.0</td>\n",
       "      <td>33886168.0</td>\n",
       "      <td>...</td>\n",
       "      <td>1962.0</td>\n",
       "      <td>85289.0</td>\n",
       "      <td>564778.0</td>\n",
       "      <td>2016.0</td>\n",
       "      <td>479489.0</td>\n",
       "      <td>6488.30</td>\n",
       "      <td>6.059022e+13</td>\n",
       "      <td>0.005383</td>\n",
       "      <td>2017-01-01</td>\n",
       "      <td>Single Family Residential</td>\n",
       "    </tr>\n",
       "    <tr>\n",
       "      <th>3</th>\n",
       "      <td>2288172</td>\n",
       "      <td>12177905</td>\n",
       "      <td>3.0</td>\n",
       "      <td>4.0</td>\n",
       "      <td>3.0</td>\n",
       "      <td>2376.0</td>\n",
       "      <td>2376.0</td>\n",
       "      <td>6037.0</td>\n",
       "      <td>3.0</td>\n",
       "      <td>34245180.0</td>\n",
       "      <td>...</td>\n",
       "      <td>1970.0</td>\n",
       "      <td>108918.0</td>\n",
       "      <td>145143.0</td>\n",
       "      <td>2016.0</td>\n",
       "      <td>36225.0</td>\n",
       "      <td>1777.51</td>\n",
       "      <td>6.037300e+13</td>\n",
       "      <td>-0.103410</td>\n",
       "      <td>2017-01-01</td>\n",
       "      <td>Single Family Residential</td>\n",
       "    </tr>\n",
       "    <tr>\n",
       "      <th>6</th>\n",
       "      <td>781532</td>\n",
       "      <td>12095076</td>\n",
       "      <td>3.0</td>\n",
       "      <td>4.0</td>\n",
       "      <td>3.0</td>\n",
       "      <td>2962.0</td>\n",
       "      <td>2962.0</td>\n",
       "      <td>6037.0</td>\n",
       "      <td>3.0</td>\n",
       "      <td>34145202.0</td>\n",
       "      <td>...</td>\n",
       "      <td>1950.0</td>\n",
       "      <td>276684.0</td>\n",
       "      <td>773303.0</td>\n",
       "      <td>2016.0</td>\n",
       "      <td>496619.0</td>\n",
       "      <td>9516.26</td>\n",
       "      <td>6.037461e+13</td>\n",
       "      <td>-0.001011</td>\n",
       "      <td>2017-01-01</td>\n",
       "      <td>Single Family Residential</td>\n",
       "    </tr>\n",
       "    <tr>\n",
       "      <th>...</th>\n",
       "      <td>...</td>\n",
       "      <td>...</td>\n",
       "      <td>...</td>\n",
       "      <td>...</td>\n",
       "      <td>...</td>\n",
       "      <td>...</td>\n",
       "      <td>...</td>\n",
       "      <td>...</td>\n",
       "      <td>...</td>\n",
       "      <td>...</td>\n",
       "      <td>...</td>\n",
       "      <td>...</td>\n",
       "      <td>...</td>\n",
       "      <td>...</td>\n",
       "      <td>...</td>\n",
       "      <td>...</td>\n",
       "      <td>...</td>\n",
       "      <td>...</td>\n",
       "      <td>...</td>\n",
       "      <td>...</td>\n",
       "      <td>...</td>\n",
       "    </tr>\n",
       "    <tr>\n",
       "      <th>77409</th>\n",
       "      <td>673515</td>\n",
       "      <td>11000655</td>\n",
       "      <td>2.0</td>\n",
       "      <td>2.0</td>\n",
       "      <td>2.0</td>\n",
       "      <td>1286.0</td>\n",
       "      <td>1286.0</td>\n",
       "      <td>6037.0</td>\n",
       "      <td>2.0</td>\n",
       "      <td>34245368.0</td>\n",
       "      <td>...</td>\n",
       "      <td>1940.0</td>\n",
       "      <td>70917.0</td>\n",
       "      <td>354621.0</td>\n",
       "      <td>2016.0</td>\n",
       "      <td>283704.0</td>\n",
       "      <td>4478.43</td>\n",
       "      <td>6.037101e+13</td>\n",
       "      <td>0.020615</td>\n",
       "      <td>2017-09-20</td>\n",
       "      <td>Single Family Residential</td>\n",
       "    </tr>\n",
       "    <tr>\n",
       "      <th>77410</th>\n",
       "      <td>2968375</td>\n",
       "      <td>17239384</td>\n",
       "      <td>2.0</td>\n",
       "      <td>4.0</td>\n",
       "      <td>2.0</td>\n",
       "      <td>1612.0</td>\n",
       "      <td>1612.0</td>\n",
       "      <td>6111.0</td>\n",
       "      <td>2.0</td>\n",
       "      <td>34300140.0</td>\n",
       "      <td>...</td>\n",
       "      <td>1964.0</td>\n",
       "      <td>50683.0</td>\n",
       "      <td>67205.0</td>\n",
       "      <td>2016.0</td>\n",
       "      <td>16522.0</td>\n",
       "      <td>1107.48</td>\n",
       "      <td>6.111008e+13</td>\n",
       "      <td>0.013209</td>\n",
       "      <td>2017-09-21</td>\n",
       "      <td>Single Family Residential</td>\n",
       "    </tr>\n",
       "    <tr>\n",
       "      <th>77411</th>\n",
       "      <td>1843709</td>\n",
       "      <td>12773139</td>\n",
       "      <td>1.0</td>\n",
       "      <td>3.0</td>\n",
       "      <td>1.0</td>\n",
       "      <td>1032.0</td>\n",
       "      <td>1032.0</td>\n",
       "      <td>6037.0</td>\n",
       "      <td>1.0</td>\n",
       "      <td>34040895.0</td>\n",
       "      <td>...</td>\n",
       "      <td>1954.0</td>\n",
       "      <td>32797.0</td>\n",
       "      <td>49546.0</td>\n",
       "      <td>2016.0</td>\n",
       "      <td>16749.0</td>\n",
       "      <td>876.43</td>\n",
       "      <td>6.037434e+13</td>\n",
       "      <td>0.037129</td>\n",
       "      <td>2017-09-21</td>\n",
       "      <td>Single Family Residential</td>\n",
       "    </tr>\n",
       "    <tr>\n",
       "      <th>77412</th>\n",
       "      <td>1187175</td>\n",
       "      <td>12826780</td>\n",
       "      <td>2.0</td>\n",
       "      <td>3.0</td>\n",
       "      <td>2.0</td>\n",
       "      <td>1762.0</td>\n",
       "      <td>1762.0</td>\n",
       "      <td>6037.0</td>\n",
       "      <td>2.0</td>\n",
       "      <td>33937685.0</td>\n",
       "      <td>...</td>\n",
       "      <td>1955.0</td>\n",
       "      <td>140000.0</td>\n",
       "      <td>522000.0</td>\n",
       "      <td>2016.0</td>\n",
       "      <td>382000.0</td>\n",
       "      <td>6317.15</td>\n",
       "      <td>6.037503e+13</td>\n",
       "      <td>0.007204</td>\n",
       "      <td>2017-09-25</td>\n",
       "      <td>Single Family Residential</td>\n",
       "    </tr>\n",
       "    <tr>\n",
       "      <th>77413</th>\n",
       "      <td>2455685</td>\n",
       "      <td>13083743</td>\n",
       "      <td>2.0</td>\n",
       "      <td>3.0</td>\n",
       "      <td>2.0</td>\n",
       "      <td>1050.0</td>\n",
       "      <td>1050.0</td>\n",
       "      <td>6037.0</td>\n",
       "      <td>2.0</td>\n",
       "      <td>34010864.0</td>\n",
       "      <td>...</td>\n",
       "      <td>1960.0</td>\n",
       "      <td>77118.0</td>\n",
       "      <td>259334.0</td>\n",
       "      <td>2016.0</td>\n",
       "      <td>182216.0</td>\n",
       "      <td>3345.78</td>\n",
       "      <td>6.037408e+13</td>\n",
       "      <td>-0.197755</td>\n",
       "      <td>2018-05-25</td>\n",
       "      <td>Single Family Residential</td>\n",
       "    </tr>\n",
       "  </tbody>\n",
       "</table>\n",
       "<p>52357 rows × 29 columns</p>\n",
       "</div>"
      ],
      "text/plain": [
       "            id  parcelid  bathroomcnt  bedroomcnt  calculatedbathnbr  \\\n",
       "0      1727539  14297519          3.5         4.0                3.5   \n",
       "1      1387261  17052889          1.0         2.0                1.0   \n",
       "2        11677  14186244          2.0         3.0                2.0   \n",
       "3      2288172  12177905          3.0         4.0                3.0   \n",
       "6       781532  12095076          3.0         4.0                3.0   \n",
       "...        ...       ...          ...         ...                ...   \n",
       "77409   673515  11000655          2.0         2.0                2.0   \n",
       "77410  2968375  17239384          2.0         4.0                2.0   \n",
       "77411  1843709  12773139          1.0         3.0                1.0   \n",
       "77412  1187175  12826780          2.0         3.0                2.0   \n",
       "77413  2455685  13083743          2.0         3.0                2.0   \n",
       "\n",
       "       calculatedfinishedsquarefeet  finishedsquarefeet12    fips  \\\n",
       "0                            3100.0                3100.0  6059.0   \n",
       "1                            1465.0                1465.0  6111.0   \n",
       "2                            1243.0                1243.0  6059.0   \n",
       "3                            2376.0                2376.0  6037.0   \n",
       "6                            2962.0                2962.0  6037.0   \n",
       "...                             ...                   ...     ...   \n",
       "77409                        1286.0                1286.0  6037.0   \n",
       "77410                        1612.0                1612.0  6111.0   \n",
       "77411                        1032.0                1032.0  6037.0   \n",
       "77412                        1762.0                1762.0  6037.0   \n",
       "77413                        1050.0                1050.0  6037.0   \n",
       "\n",
       "       fullbathcnt    latitude  ...  yearbuilt  structuretaxvaluedollarcnt  \\\n",
       "0              3.0  33634931.0  ...     1998.0                    485713.0   \n",
       "1              1.0  34449266.0  ...     1967.0                     88000.0   \n",
       "2              2.0  33886168.0  ...     1962.0                     85289.0   \n",
       "3              3.0  34245180.0  ...     1970.0                    108918.0   \n",
       "6              3.0  34145202.0  ...     1950.0                    276684.0   \n",
       "...            ...         ...  ...        ...                         ...   \n",
       "77409          2.0  34245368.0  ...     1940.0                     70917.0   \n",
       "77410          2.0  34300140.0  ...     1964.0                     50683.0   \n",
       "77411          1.0  34040895.0  ...     1954.0                     32797.0   \n",
       "77412          2.0  33937685.0  ...     1955.0                    140000.0   \n",
       "77413          2.0  34010864.0  ...     1960.0                     77118.0   \n",
       "\n",
       "      taxvaluedollarcnt  assessmentyear  landtaxvaluedollarcnt  taxamount  \\\n",
       "0             1023282.0          2016.0               537569.0   11013.72   \n",
       "1              464000.0          2016.0               376000.0    5672.48   \n",
       "2              564778.0          2016.0               479489.0    6488.30   \n",
       "3              145143.0          2016.0                36225.0    1777.51   \n",
       "6              773303.0          2016.0               496619.0    9516.26   \n",
       "...                 ...             ...                    ...        ...   \n",
       "77409          354621.0          2016.0               283704.0    4478.43   \n",
       "77410           67205.0          2016.0                16522.0    1107.48   \n",
       "77411           49546.0          2016.0                16749.0     876.43   \n",
       "77412          522000.0          2016.0               382000.0    6317.15   \n",
       "77413          259334.0          2016.0               182216.0    3345.78   \n",
       "\n",
       "       censustractandblock  logerror  transactiondate  \\\n",
       "0             6.059063e+13  0.025595       2017-01-01   \n",
       "1             6.111001e+13  0.055619       2017-01-01   \n",
       "2             6.059022e+13  0.005383       2017-01-01   \n",
       "3             6.037300e+13 -0.103410       2017-01-01   \n",
       "6             6.037461e+13 -0.001011       2017-01-01   \n",
       "...                    ...       ...              ...   \n",
       "77409         6.037101e+13  0.020615       2017-09-20   \n",
       "77410         6.111008e+13  0.013209       2017-09-21   \n",
       "77411         6.037434e+13  0.037129       2017-09-21   \n",
       "77412         6.037503e+13  0.007204       2017-09-25   \n",
       "77413         6.037408e+13 -0.197755       2018-05-25   \n",
       "\n",
       "             propertylandusedesc  \n",
       "0      Single Family Residential  \n",
       "1      Single Family Residential  \n",
       "2      Single Family Residential  \n",
       "3      Single Family Residential  \n",
       "6      Single Family Residential  \n",
       "...                          ...  \n",
       "77409  Single Family Residential  \n",
       "77410  Single Family Residential  \n",
       "77411  Single Family Residential  \n",
       "77412  Single Family Residential  \n",
       "77413  Single Family Residential  \n",
       "\n",
       "[52357 rows x 29 columns]"
      ]
     },
     "execution_count": 87,
     "metadata": {},
     "output_type": "execute_result"
    }
   ],
   "source": [
    "zillow"
   ]
  },
  {
   "cell_type": "code",
   "execution_count": 88,
   "metadata": {},
   "outputs": [
    {
     "data": {
      "text/plain": [
       "id                                 0\n",
       "parcelid                           0\n",
       "bathroomcnt                        0\n",
       "bedroomcnt                         0\n",
       "calculatedbathnbr                162\n",
       "calculatedfinishedsquarefeet     107\n",
       "finishedsquarefeet12             273\n",
       "fips                               0\n",
       "fullbathcnt                      162\n",
       "latitude                           0\n",
       "longitude                          0\n",
       "lotsizesquarefeet                375\n",
       "propertycountylandusecode          0\n",
       "propertylandusetypeid              0\n",
       "rawcensustractandblock             0\n",
       "regionidcity                    1036\n",
       "regionidcounty                     0\n",
       "regionidzip                       26\n",
       "roomcnt                            0\n",
       "yearbuilt                        140\n",
       "structuretaxvaluedollarcnt        82\n",
       "taxvaluedollarcnt                  1\n",
       "assessmentyear                     0\n",
       "landtaxvaluedollarcnt              1\n",
       "taxamount                          4\n",
       "censustractandblock              125\n",
       "logerror                           0\n",
       "transactiondate                    0\n",
       "propertylandusedesc                0\n",
       "dtype: int64"
      ]
     },
     "execution_count": 88,
     "metadata": {},
     "output_type": "execute_result"
    }
   ],
   "source": [
    "# lets check how many missing values we have left\n",
    "zillow.isna().sum()"
   ]
  },
  {
   "cell_type": "code",
   "execution_count": 89,
   "metadata": {},
   "outputs": [
    {
     "name": "stdout",
     "output_type": "stream",
     "text": [
      "<class 'pandas.core.frame.DataFrame'>\n",
      "Int64Index: 52357 entries, 0 to 77413\n",
      "Data columns (total 29 columns):\n",
      " #   Column                        Non-Null Count  Dtype  \n",
      "---  ------                        --------------  -----  \n",
      " 0   id                            52357 non-null  int64  \n",
      " 1   parcelid                      52357 non-null  int64  \n",
      " 2   bathroomcnt                   52357 non-null  float64\n",
      " 3   bedroomcnt                    52357 non-null  float64\n",
      " 4   calculatedbathnbr             52195 non-null  float64\n",
      " 5   calculatedfinishedsquarefeet  52250 non-null  float64\n",
      " 6   finishedsquarefeet12          52084 non-null  float64\n",
      " 7   fips                          52357 non-null  float64\n",
      " 8   fullbathcnt                   52195 non-null  float64\n",
      " 9   latitude                      52357 non-null  float64\n",
      " 10  longitude                     52357 non-null  float64\n",
      " 11  lotsizesquarefeet             51982 non-null  float64\n",
      " 12  propertycountylandusecode     52357 non-null  object \n",
      " 13  propertylandusetypeid         52357 non-null  float64\n",
      " 14  rawcensustractandblock        52357 non-null  float64\n",
      " 15  regionidcity                  51321 non-null  float64\n",
      " 16  regionidcounty                52357 non-null  float64\n",
      " 17  regionidzip                   52331 non-null  float64\n",
      " 18  roomcnt                       52357 non-null  float64\n",
      " 19  yearbuilt                     52217 non-null  float64\n",
      " 20  structuretaxvaluedollarcnt    52275 non-null  float64\n",
      " 21  taxvaluedollarcnt             52356 non-null  float64\n",
      " 22  assessmentyear                52357 non-null  float64\n",
      " 23  landtaxvaluedollarcnt         52356 non-null  float64\n",
      " 24  taxamount                     52353 non-null  float64\n",
      " 25  censustractandblock           52232 non-null  float64\n",
      " 26  logerror                      52357 non-null  float64\n",
      " 27  transactiondate               52357 non-null  object \n",
      " 28  propertylandusedesc           52357 non-null  object \n",
      "dtypes: float64(24), int64(2), object(3)\n",
      "memory usage: 12.0+ MB\n"
     ]
    }
   ],
   "source": [
    "zillow.info()"
   ]
  },
  {
   "cell_type": "code",
   "execution_count": 90,
   "metadata": {},
   "outputs": [],
   "source": [
    "zillow = wrangle_zillow.clean_zillow(zillow)"
   ]
  },
  {
   "cell_type": "code",
   "execution_count": 91,
   "metadata": {},
   "outputs": [],
   "source": [
    "# creating a function that takes in a dataframe, list of columns to check outliers for\n",
    "# and returns a df with the outliers removed\n",
    "\n",
    "def check_outliers(df, cols_to_check):\n",
    "    \n",
    "    for col in cols_to_check:\n",
    "        iqr = df[col].quantile(0.75) - df[col].quantile(0.25)\n",
    "        upper_bound = df[col].quantile(0.75) +  1.5 * iqr\n",
    "        lower_bound = df[col].quantile(0.25) - 1.5 * iqr\n",
    "        df = df[(df[col] < upper_bound) & (df[col] > lower_bound)]\n",
    "    return df  "
   ]
  },
  {
   "cell_type": "code",
   "execution_count": 92,
   "metadata": {},
   "outputs": [],
   "source": [
    "cols_to_check = ['bathroomcnt', 'bedroomcnt','calculatedfinishedsquarefeet','fullbathcnt',\n",
    "               'roomcnt', 'structuretaxvaluedollarcnt','taxvaluedollarcnt','landtaxvaluedollarcnt',\n",
    "       'taxamount']\n",
    "\n",
    "zillow = check_outliers(zillow, cols_to_check = cols_to_check)"
   ]
  },
  {
   "cell_type": "code",
   "execution_count": 93,
   "metadata": {},
   "outputs": [
    {
     "data": {
      "text/plain": [
       "((27740, 26), (8669, 26), (6935, 26))"
      ]
     },
     "execution_count": 93,
     "metadata": {},
     "output_type": "execute_result"
    }
   ],
   "source": [
    "train, test, validate = wrangle_zillow.split_zillow(zillow)\n",
    "\n",
    "train.shape, test.shape, validate.shape"
   ]
  },
  {
   "cell_type": "code",
   "execution_count": 94,
   "metadata": {},
   "outputs": [],
   "source": [
    "# So how are we going to fill in the missing values?\n",
    "# if the columns are categorical/discrete we wil used mode, if its continuous we will use median\n",
    "cat_cols = [ 'fullbathcnt', 'regionidcity', 'regionidzip','yearbuilt']\n",
    "cont_cols = ['censustractandblock', 'taxamount', 'landtaxvaluedollarcnt', 'taxvaluedollarcnt', 'lotsizesquarefeet', \n",
    "            'calculatedfinishedsquarefeet', 'structuretaxvaluedollarcnt']\n",
    "\n",
    "train, test, validate = wrangle_zillow.fill_na(train, test, validate, cat_cols = cat_cols, cont_cols = cont_cols)"
   ]
  },
  {
   "cell_type": "code",
   "execution_count": 95,
   "metadata": {},
   "outputs": [
    {
     "data": {
      "text/plain": [
       "id                              0\n",
       "parcelid                        0\n",
       "bathroomcnt                     0\n",
       "bedroomcnt                      0\n",
       "calculatedfinishedsquarefeet    0\n",
       "fips                            0\n",
       "fullbathcnt                     0\n",
       "latitude                        0\n",
       "longitude                       0\n",
       "lotsizesquarefeet               0\n",
       "propertycountylandusecode       0\n",
       "rawcensustractandblock          0\n",
       "regionidcity                    0\n",
       "regionidcounty                  0\n",
       "regionidzip                     0\n",
       "roomcnt                         0\n",
       "yearbuilt                       0\n",
       "structuretaxvaluedollarcnt      0\n",
       "taxvaluedollarcnt               0\n",
       "assessmentyear                  0\n",
       "landtaxvaluedollarcnt           0\n",
       "taxamount                       0\n",
       "censustractandblock             0\n",
       "logerror                        0\n",
       "transactiondate                 0\n",
       "propertylandusedesc             0\n",
       "dtype: int64"
      ]
     },
     "execution_count": 95,
     "metadata": {},
     "output_type": "execute_result"
    }
   ],
   "source": [
    "train.isnull().sum()"
   ]
  },
  {
   "cell_type": "code",
   "execution_count": 96,
   "metadata": {},
   "outputs": [
    {
     "data": {
      "text/plain": [
       "id                              0\n",
       "parcelid                        0\n",
       "bathroomcnt                     0\n",
       "bedroomcnt                      0\n",
       "calculatedfinishedsquarefeet    0\n",
       "fips                            0\n",
       "fullbathcnt                     0\n",
       "latitude                        0\n",
       "longitude                       0\n",
       "lotsizesquarefeet               0\n",
       "propertycountylandusecode       0\n",
       "rawcensustractandblock          0\n",
       "regionidcity                    0\n",
       "regionidcounty                  0\n",
       "regionidzip                     0\n",
       "roomcnt                         0\n",
       "yearbuilt                       0\n",
       "structuretaxvaluedollarcnt      0\n",
       "taxvaluedollarcnt               0\n",
       "assessmentyear                  0\n",
       "landtaxvaluedollarcnt           0\n",
       "taxamount                       0\n",
       "censustractandblock             0\n",
       "logerror                        0\n",
       "transactiondate                 0\n",
       "propertylandusedesc             0\n",
       "dtype: int64"
      ]
     },
     "execution_count": 96,
     "metadata": {},
     "output_type": "execute_result"
    }
   ],
   "source": [
    "validate.isnull().sum()"
   ]
  },
  {
   "cell_type": "code",
   "execution_count": 97,
   "metadata": {},
   "outputs": [
    {
     "data": {
      "text/plain": [
       "id                              0\n",
       "parcelid                        0\n",
       "bathroomcnt                     0\n",
       "bedroomcnt                      0\n",
       "calculatedfinishedsquarefeet    0\n",
       "fips                            0\n",
       "fullbathcnt                     0\n",
       "latitude                        0\n",
       "longitude                       0\n",
       "lotsizesquarefeet               0\n",
       "propertycountylandusecode       0\n",
       "rawcensustractandblock          0\n",
       "regionidcity                    0\n",
       "regionidcounty                  0\n",
       "regionidzip                     0\n",
       "roomcnt                         0\n",
       "yearbuilt                       0\n",
       "structuretaxvaluedollarcnt      0\n",
       "taxvaluedollarcnt               0\n",
       "assessmentyear                  0\n",
       "landtaxvaluedollarcnt           0\n",
       "taxamount                       0\n",
       "censustractandblock             0\n",
       "logerror                        0\n",
       "transactiondate                 0\n",
       "propertylandusedesc             0\n",
       "dtype: int64"
      ]
     },
     "execution_count": 97,
     "metadata": {},
     "output_type": "execute_result"
    }
   ],
   "source": [
    "test.isnull().sum()"
   ]
  },
  {
   "cell_type": "markdown",
   "metadata": {},
   "source": [
    "## LETS START EXPLORING"
   ]
  },
  {
   "cell_type": "code",
   "execution_count": 98,
   "metadata": {},
   "outputs": [
    {
     "data": {
      "text/html": [
       "<div>\n",
       "<style scoped>\n",
       "    .dataframe tbody tr th:only-of-type {\n",
       "        vertical-align: middle;\n",
       "    }\n",
       "\n",
       "    .dataframe tbody tr th {\n",
       "        vertical-align: top;\n",
       "    }\n",
       "\n",
       "    .dataframe thead th {\n",
       "        text-align: right;\n",
       "    }\n",
       "</style>\n",
       "<table border=\"1\" class=\"dataframe\">\n",
       "  <thead>\n",
       "    <tr style=\"text-align: right;\">\n",
       "      <th></th>\n",
       "      <th>id</th>\n",
       "      <th>parcelid</th>\n",
       "      <th>bathroomcnt</th>\n",
       "      <th>bedroomcnt</th>\n",
       "      <th>calculatedfinishedsquarefeet</th>\n",
       "      <th>fips</th>\n",
       "      <th>fullbathcnt</th>\n",
       "      <th>latitude</th>\n",
       "      <th>longitude</th>\n",
       "      <th>lotsizesquarefeet</th>\n",
       "      <th>...</th>\n",
       "      <th>yearbuilt</th>\n",
       "      <th>structuretaxvaluedollarcnt</th>\n",
       "      <th>taxvaluedollarcnt</th>\n",
       "      <th>assessmentyear</th>\n",
       "      <th>landtaxvaluedollarcnt</th>\n",
       "      <th>taxamount</th>\n",
       "      <th>censustractandblock</th>\n",
       "      <th>logerror</th>\n",
       "      <th>transactiondate</th>\n",
       "      <th>propertylandusedesc</th>\n",
       "    </tr>\n",
       "  </thead>\n",
       "  <tbody>\n",
       "    <tr>\n",
       "      <th>64747</th>\n",
       "      <td>1086539</td>\n",
       "      <td>14491384</td>\n",
       "      <td>2.0</td>\n",
       "      <td>3.0</td>\n",
       "      <td>1672.0</td>\n",
       "      <td>6059.0</td>\n",
       "      <td>2.0</td>\n",
       "      <td>33615806.0</td>\n",
       "      <td>-117661868.0</td>\n",
       "      <td>6200.0</td>\n",
       "      <td>...</td>\n",
       "      <td>1972.0</td>\n",
       "      <td>116474.0</td>\n",
       "      <td>355554.0</td>\n",
       "      <td>2016.0</td>\n",
       "      <td>239080.0</td>\n",
       "      <td>3610.14</td>\n",
       "      <td>6.059032e+13</td>\n",
       "      <td>-0.017699</td>\n",
       "      <td>2017-08-09</td>\n",
       "      <td>Single Family Residential</td>\n",
       "    </tr>\n",
       "    <tr>\n",
       "      <th>76163</th>\n",
       "      <td>1990239</td>\n",
       "      <td>12190990</td>\n",
       "      <td>1.0</td>\n",
       "      <td>3.0</td>\n",
       "      <td>1509.0</td>\n",
       "      <td>6037.0</td>\n",
       "      <td>1.0</td>\n",
       "      <td>33976783.0</td>\n",
       "      <td>-118291247.0</td>\n",
       "      <td>4913.0</td>\n",
       "      <td>...</td>\n",
       "      <td>1920.0</td>\n",
       "      <td>72058.0</td>\n",
       "      <td>252211.0</td>\n",
       "      <td>2016.0</td>\n",
       "      <td>180153.0</td>\n",
       "      <td>3103.67</td>\n",
       "      <td>6.037237e+13</td>\n",
       "      <td>0.063732</td>\n",
       "      <td>2017-09-13</td>\n",
       "      <td>Single Family Residential</td>\n",
       "    </tr>\n",
       "    <tr>\n",
       "      <th>45216</th>\n",
       "      <td>2323625</td>\n",
       "      <td>14319971</td>\n",
       "      <td>2.5</td>\n",
       "      <td>4.0</td>\n",
       "      <td>2442.0</td>\n",
       "      <td>6059.0</td>\n",
       "      <td>2.0</td>\n",
       "      <td>33632715.0</td>\n",
       "      <td>-117816063.0</td>\n",
       "      <td>7888.0</td>\n",
       "      <td>...</td>\n",
       "      <td>1971.0</td>\n",
       "      <td>178545.0</td>\n",
       "      <td>644179.0</td>\n",
       "      <td>2016.0</td>\n",
       "      <td>465634.0</td>\n",
       "      <td>6574.24</td>\n",
       "      <td>6.059063e+13</td>\n",
       "      <td>-0.010918</td>\n",
       "      <td>2017-06-12</td>\n",
       "      <td>Single Family Residential</td>\n",
       "    </tr>\n",
       "    <tr>\n",
       "      <th>9760</th>\n",
       "      <td>2528528</td>\n",
       "      <td>12624220</td>\n",
       "      <td>3.0</td>\n",
       "      <td>3.0</td>\n",
       "      <td>1880.0</td>\n",
       "      <td>6037.0</td>\n",
       "      <td>3.0</td>\n",
       "      <td>33785003.0</td>\n",
       "      <td>-118304371.0</td>\n",
       "      <td>7432.0</td>\n",
       "      <td>...</td>\n",
       "      <td>1949.0</td>\n",
       "      <td>221516.0</td>\n",
       "      <td>330188.0</td>\n",
       "      <td>2016.0</td>\n",
       "      <td>108672.0</td>\n",
       "      <td>4175.42</td>\n",
       "      <td>6.037293e+13</td>\n",
       "      <td>-0.021854</td>\n",
       "      <td>2017-02-14</td>\n",
       "      <td>Single Family Residential</td>\n",
       "    </tr>\n",
       "    <tr>\n",
       "      <th>18132</th>\n",
       "      <td>1507332</td>\n",
       "      <td>17245741</td>\n",
       "      <td>2.5</td>\n",
       "      <td>4.0</td>\n",
       "      <td>2071.0</td>\n",
       "      <td>6111.0</td>\n",
       "      <td>2.0</td>\n",
       "      <td>34276728.0</td>\n",
       "      <td>-118731605.0</td>\n",
       "      <td>6549.0</td>\n",
       "      <td>...</td>\n",
       "      <td>1964.0</td>\n",
       "      <td>152966.0</td>\n",
       "      <td>250585.0</td>\n",
       "      <td>2016.0</td>\n",
       "      <td>97619.0</td>\n",
       "      <td>3064.12</td>\n",
       "      <td>6.111008e+13</td>\n",
       "      <td>-0.004711</td>\n",
       "      <td>2017-03-17</td>\n",
       "      <td>Single Family Residential</td>\n",
       "    </tr>\n",
       "  </tbody>\n",
       "</table>\n",
       "<p>5 rows × 26 columns</p>\n",
       "</div>"
      ],
      "text/plain": [
       "            id  parcelid  bathroomcnt  bedroomcnt  \\\n",
       "64747  1086539  14491384          2.0         3.0   \n",
       "76163  1990239  12190990          1.0         3.0   \n",
       "45216  2323625  14319971          2.5         4.0   \n",
       "9760   2528528  12624220          3.0         3.0   \n",
       "18132  1507332  17245741          2.5         4.0   \n",
       "\n",
       "       calculatedfinishedsquarefeet    fips  fullbathcnt    latitude  \\\n",
       "64747                        1672.0  6059.0          2.0  33615806.0   \n",
       "76163                        1509.0  6037.0          1.0  33976783.0   \n",
       "45216                        2442.0  6059.0          2.0  33632715.0   \n",
       "9760                         1880.0  6037.0          3.0  33785003.0   \n",
       "18132                        2071.0  6111.0          2.0  34276728.0   \n",
       "\n",
       "         longitude  lotsizesquarefeet  ... yearbuilt  \\\n",
       "64747 -117661868.0             6200.0  ...    1972.0   \n",
       "76163 -118291247.0             4913.0  ...    1920.0   \n",
       "45216 -117816063.0             7888.0  ...    1971.0   \n",
       "9760  -118304371.0             7432.0  ...    1949.0   \n",
       "18132 -118731605.0             6549.0  ...    1964.0   \n",
       "\n",
       "       structuretaxvaluedollarcnt  taxvaluedollarcnt  assessmentyear  \\\n",
       "64747                    116474.0           355554.0          2016.0   \n",
       "76163                     72058.0           252211.0          2016.0   \n",
       "45216                    178545.0           644179.0          2016.0   \n",
       "9760                     221516.0           330188.0          2016.0   \n",
       "18132                    152966.0           250585.0          2016.0   \n",
       "\n",
       "       landtaxvaluedollarcnt  taxamount  censustractandblock  logerror  \\\n",
       "64747               239080.0    3610.14         6.059032e+13 -0.017699   \n",
       "76163               180153.0    3103.67         6.037237e+13  0.063732   \n",
       "45216               465634.0    6574.24         6.059063e+13 -0.010918   \n",
       "9760                108672.0    4175.42         6.037293e+13 -0.021854   \n",
       "18132                97619.0    3064.12         6.111008e+13 -0.004711   \n",
       "\n",
       "       transactiondate        propertylandusedesc  \n",
       "64747       2017-08-09  Single Family Residential  \n",
       "76163       2017-09-13  Single Family Residential  \n",
       "45216       2017-06-12  Single Family Residential  \n",
       "9760        2017-02-14  Single Family Residential  \n",
       "18132       2017-03-17  Single Family Residential  \n",
       "\n",
       "[5 rows x 26 columns]"
      ]
     },
     "execution_count": 98,
     "metadata": {},
     "output_type": "execute_result"
    }
   ],
   "source": [
    "train.head()"
   ]
  },
  {
   "cell_type": "code",
   "execution_count": 99,
   "metadata": {},
   "outputs": [
    {
     "data": {
      "image/png": "[encoded data removed]",
      "text/plain": [
       "<Figure size 432x288 with 1 Axes>"
      ]
     },
     "metadata": {
      "needs_background": "light"
     },
     "output_type": "display_data"
    },
    {
     "data": {
      "image/png": "[encoded data removed]",
      "text/plain": [
       "<Figure size 432x288 with 1 Axes>"
      ]
     },
     "metadata": {
      "needs_background": "light"
     },
     "output_type": "display_data"
    },
    {
     "data": {
      "image/png": "[encoded data removed]",
      "text/plain": [
       "<Figure size 432x288 with 1 Axes>"
      ]
     },
     "metadata": {
      "needs_background": "light"
     },
     "output_type": "display_data"
    },
    {
     "data": {
      "image/png": "[encoded data removed]",
      "text/plain": [
       "<Figure size 432x288 with 1 Axes>"
      ]
     },
     "metadata": {
      "needs_background": "light"
     },
     "output_type": "display_data"
    },
    {
     "data": {
      "image/png": "[encoded data removed]",
      "text/plain": [
       "<Figure size 432x288 with 1 Axes>"
      ]
     },
     "metadata": {
      "needs_background": "light"
     },
     "output_type": "display_data"
    },
    {
     "data": {
      "image/png": "[encoded data removed]",
      "text/plain": [
       "<Figure size 432x288 with 1 Axes>"
      ]
     },
     "metadata": {
      "needs_background": "light"
     },
     "output_type": "display_data"
    },
    {
     "data": {
      "image/png": "[encoded data removed]",
      "text/plain": [
       "<Figure size 432x288 with 1 Axes>"
      ]
     },
     "metadata": {
      "needs_background": "light"
     },
     "output_type": "display_data"
    },
    {
     "data": {
      "image/png": "[encoded data removed]",
      "text/plain": [
       "<Figure size 432x288 with 1 Axes>"
      ]
     },
     "metadata": {
      "needs_background": "light"
     },
     "output_type": "display_data"
    },
    {
     "data": {
      "image/png": "[encoded data removed]",
      "text/plain": [
       "<Figure size 432x288 with 1 Axes>"
      ]
     },
     "metadata": {
      "needs_background": "light"
     },
     "output_type": "display_data"
    },
    {
     "data": {
      "image/png": "[encoded data removed]",
      "text/plain": [
       "<Figure size 432x288 with 1 Axes>"
      ]
     },
     "metadata": {
      "needs_background": "light"
     },
     "output_type": "display_data"
    },
    {
     "data": {
      "image/png": "[encoded data removed]",
      "text/plain": [
       "<Figure size 432x288 with 1 Axes>"
      ]
     },
     "metadata": {
      "needs_background": "light"
     },
     "output_type": "display_data"
    },
    {
     "data": {
      "image/png": "[encoded data removed]",
      "text/plain": [
       "<Figure size 432x288 with 1 Axes>"
      ]
     },
     "metadata": {
      "needs_background": "light"
     },
     "output_type": "display_data"
    },
    {
     "data": {
      "image/png": "[encoded data removed]",
      "text/plain": [
       "<Figure size 432x288 with 1 Axes>"
      ]
     },
     "metadata": {
      "needs_background": "light"
     },
     "output_type": "display_data"
    },
    {
     "data": {
      "image/png": "[encoded data removed]",
      "text/plain": [
       "<Figure size 432x288 with 1 Axes>"
      ]
     },
     "metadata": {
      "needs_background": "light"
     },
     "output_type": "display_data"
    },
    {
     "data": {
      "image/png": "[encoded data removed]",
      "text/plain": [
       "<Figure size 432x288 with 1 Axes>"
      ]
     },
     "metadata": {
      "needs_background": "light"
     },
     "output_type": "display_data"
    },
    {
     "data": {
      "image/png": "[encoded data removed]",
      "text/plain": [
       "<Figure size 432x288 with 1 Axes>"
      ]
     },
     "metadata": {
      "needs_background": "light"
     },
     "output_type": "display_data"
    },
    {
     "data": {
      "image/png": "[encoded data removed]",
      "text/plain": [
       "<Figure size 432x288 with 1 Axes>"
      ]
     },
     "metadata": {
      "needs_background": "light"
     },
     "output_type": "display_data"
    },
    {
     "data": {
      "image/png": "[encoded data removed]",
      "text/plain": [
       "<Figure size 432x288 with 1 Axes>"
      ]
     },
     "metadata": {
      "needs_background": "light"
     },
     "output_type": "display_data"
    },
    {
     "data": {
      "image/png": "[encoded data removed]",
      "text/plain": [
       "<Figure size 432x288 with 1 Axes>"
      ]
     },
     "metadata": {
      "needs_background": "light"
     },
     "output_type": "display_data"
    },
    {
     "data": {
      "image/png": "[encoded data removed]",
      "text/plain": [
       "<Figure size 432x288 with 1 Axes>"
      ]
     },
     "metadata": {
      "needs_background": "light"
     },
     "output_type": "display_data"
    },
    {
     "data": {
      "image/png": "[encoded data removed]",
      "text/plain": [
       "<Figure size 432x288 with 1 Axes>"
      ]
     },
     "metadata": {
      "needs_background": "light"
     },
     "output_type": "display_data"
    },
    {
     "data": {
      "image/png": "[encoded data removed]",
      "text/plain": [
       "<Figure size 432x288 with 1 Axes>"
      ]
     },
     "metadata": {
      "needs_background": "light"
     },
     "output_type": "display_data"
    },
    {
     "data": {
      "image/png": "[encoded data removed]",
      "text/plain": [
       "<Figure size 432x288 with 1 Axes>"
      ]
     },
     "metadata": {
      "needs_background": "light"
     },
     "output_type": "display_data"
    }
   ],
   "source": [
    "# lets check if we have outliers in numeric datatypes\n",
    "\n",
    "for col in train.select_dtypes(include = 'number').columns:\n",
    "    sns.boxplot(train[col])\n",
    "    plt.title(col)\n",
    "    plt.show()"
   ]
  },
  {
   "cell_type": "markdown",
   "metadata": {},
   "source": [
    "## How is log error distributed amongst different fips code?"
   ]
  },
  {
   "cell_type": "code",
   "execution_count": 100,
   "metadata": {},
   "outputs": [
    {
     "data": {
      "text/html": [
       "<div>\n",
       "<style scoped>\n",
       "    .dataframe tbody tr th:only-of-type {\n",
       "        vertical-align: middle;\n",
       "    }\n",
       "\n",
       "    .dataframe tbody tr th {\n",
       "        vertical-align: top;\n",
       "    }\n",
       "\n",
       "    .dataframe thead th {\n",
       "        text-align: right;\n",
       "    }\n",
       "</style>\n",
       "<table border=\"1\" class=\"dataframe\">\n",
       "  <thead>\n",
       "    <tr style=\"text-align: right;\">\n",
       "      <th></th>\n",
       "      <th>count</th>\n",
       "      <th>mean</th>\n",
       "      <th>std</th>\n",
       "      <th>min</th>\n",
       "      <th>25%</th>\n",
       "      <th>50%</th>\n",
       "      <th>75%</th>\n",
       "      <th>max</th>\n",
       "    </tr>\n",
       "    <tr>\n",
       "      <th>fips</th>\n",
       "      <th></th>\n",
       "      <th></th>\n",
       "      <th></th>\n",
       "      <th></th>\n",
       "      <th></th>\n",
       "      <th></th>\n",
       "      <th></th>\n",
       "      <th></th>\n",
       "    </tr>\n",
       "  </thead>\n",
       "  <tbody>\n",
       "    <tr>\n",
       "      <th>6037.0</th>\n",
       "      <td>18204.0</td>\n",
       "      <td>0.014977</td>\n",
       "      <td>0.169795</td>\n",
       "      <td>-4.655420</td>\n",
       "      <td>-0.029024</td>\n",
       "      <td>0.004833</td>\n",
       "      <td>0.038835</td>\n",
       "      <td>3.394544</td>\n",
       "    </tr>\n",
       "    <tr>\n",
       "      <th>6059.0</th>\n",
       "      <td>7242.0</td>\n",
       "      <td>0.021972</td>\n",
       "      <td>0.166868</td>\n",
       "      <td>-2.387800</td>\n",
       "      <td>-0.017350</td>\n",
       "      <td>0.007173</td>\n",
       "      <td>0.034404</td>\n",
       "      <td>2.355489</td>\n",
       "    </tr>\n",
       "    <tr>\n",
       "      <th>6111.0</th>\n",
       "      <td>2294.0</td>\n",
       "      <td>0.015179</td>\n",
       "      <td>0.157139</td>\n",
       "      <td>-2.238112</td>\n",
       "      <td>-0.018314</td>\n",
       "      <td>0.005804</td>\n",
       "      <td>0.031951</td>\n",
       "      <td>2.177363</td>\n",
       "    </tr>\n",
       "  </tbody>\n",
       "</table>\n",
       "</div>"
      ],
      "text/plain": [
       "          count      mean       std       min       25%       50%       75%  \\\n",
       "fips                                                                          \n",
       "6037.0  18204.0  0.014977  0.169795 -4.655420 -0.029024  0.004833  0.038835   \n",
       "6059.0   7242.0  0.021972  0.166868 -2.387800 -0.017350  0.007173  0.034404   \n",
       "6111.0   2294.0  0.015179  0.157139 -2.238112 -0.018314  0.005804  0.031951   \n",
       "\n",
       "             max  \n",
       "fips              \n",
       "6037.0  3.394544  \n",
       "6059.0  2.355489  \n",
       "6111.0  2.177363  "
      ]
     },
     "execution_count": 100,
     "metadata": {},
     "output_type": "execute_result"
    }
   ],
   "source": [
    "# lets groupby our data on fips and get some discriptive stats on log error\n",
    "\n",
    "train.groupby('fips').logerror.describe()\n"
   ]
  },
  {
   "cell_type": "code",
   "execution_count": 101,
   "metadata": {},
   "outputs": [
    {
     "data": {
      "text/plain": [
       "<AxesSubplot:>"
      ]
     },
     "execution_count": 101,
     "metadata": {},
     "output_type": "execute_result"
    },
    {
     "data": {
      "image/png": "[encoded data removed]",
      "text/plain": [
       "<Figure size 432x288 with 1 Axes>"
      ]
     },
     "metadata": {
      "needs_background": "light"
     },
     "output_type": "display_data"
    }
   ],
   "source": [
    "# plotting histogram of the log error in different fips code\n",
    "\n",
    "ax = train[train.fips == 6037.0].logerror.hist(color = 'red')\n",
    "train[train.fips == 6059.0].logerror.hist(ax = ax, color = 'blue')\n",
    "train[train.fips == 6111.0].logerror.hist(ax = ax, color = 'green')"
   ]
  },
  {
   "cell_type": "markdown",
   "metadata": {},
   "source": [
    "**Takeaways:**\n",
    "- The log error seems evenly distributed amongst different fips code. However, the count in one area is significntly higher than the other. And there are few outlies in each"
   ]
  },
  {
   "cell_type": "code",
   "execution_count": 102,
   "metadata": {},
   "outputs": [
    {
     "data": {
      "image/png": "[encoded data removed]",
      "text/plain": [
       "<Figure size 432x288 with 1 Axes>"
      ]
     },
     "metadata": {
      "needs_background": "light"
     },
     "output_type": "display_data"
    },
    {
     "data": {
      "image/png": "[encoded data removed]",
      "text/plain": [
       "<Figure size 432x288 with 1 Axes>"
      ]
     },
     "metadata": {
      "needs_background": "light"
     },
     "output_type": "display_data"
    },
    {
     "data": {
      "image/png": "[encoded data removed]",
      "text/plain": [
       "<Figure size 432x288 with 1 Axes>"
      ]
     },
     "metadata": {
      "needs_background": "light"
     },
     "output_type": "display_data"
    }
   ],
   "source": [
    "# plotting the boxplot of the logerror in different fips code\n",
    "\n",
    "sns.boxplot(train[train.fips == 6037.0].logerror)\n",
    "plt.show()\n",
    "\n",
    "sns.boxplot(train[train.fips == 6059.0].logerror)\n",
    "plt.show()\n",
    "\n",
    "sns.boxplot(train[train.fips == 6111.0].logerror)\n",
    "plt.show()\n"
   ]
  },
  {
   "cell_type": "markdown",
   "metadata": {},
   "source": [
    "\n"
   ]
  },
  {
   "cell_type": "markdown",
   "metadata": {},
   "source": [
    "## Are there zipcode where the logerror is higher  or lower than the average logerror?"
   ]
  },
  {
   "cell_type": "code",
   "execution_count": 103,
   "metadata": {},
   "outputs": [
    {
     "data": {
      "text/html": [
       "<div>\n",
       "<style scoped>\n",
       "    .dataframe tbody tr th:only-of-type {\n",
       "        vertical-align: middle;\n",
       "    }\n",
       "\n",
       "    .dataframe tbody tr th {\n",
       "        vertical-align: top;\n",
       "    }\n",
       "\n",
       "    .dataframe thead th {\n",
       "        text-align: right;\n",
       "    }\n",
       "</style>\n",
       "<table border=\"1\" class=\"dataframe\">\n",
       "  <thead>\n",
       "    <tr style=\"text-align: right;\">\n",
       "      <th></th>\n",
       "      <th>count</th>\n",
       "      <th>mean</th>\n",
       "      <th>std</th>\n",
       "      <th>min</th>\n",
       "      <th>25%</th>\n",
       "      <th>50%</th>\n",
       "      <th>75%</th>\n",
       "      <th>max</th>\n",
       "    </tr>\n",
       "    <tr>\n",
       "      <th>regionidzip</th>\n",
       "      <th></th>\n",
       "      <th></th>\n",
       "      <th></th>\n",
       "      <th></th>\n",
       "      <th></th>\n",
       "      <th></th>\n",
       "      <th></th>\n",
       "      <th></th>\n",
       "    </tr>\n",
       "  </thead>\n",
       "  <tbody>\n",
       "    <tr>\n",
       "      <th>95982.0</th>\n",
       "      <td>44.0</td>\n",
       "      <td>-0.026533</td>\n",
       "      <td>0.170769</td>\n",
       "      <td>-0.697602</td>\n",
       "      <td>-0.066795</td>\n",
       "      <td>-0.027675</td>\n",
       "      <td>0.069197</td>\n",
       "      <td>0.304941</td>\n",
       "    </tr>\n",
       "    <tr>\n",
       "      <th>95983.0</th>\n",
       "      <td>94.0</td>\n",
       "      <td>0.007433</td>\n",
       "      <td>0.187209</td>\n",
       "      <td>-0.965342</td>\n",
       "      <td>-0.056004</td>\n",
       "      <td>-0.001945</td>\n",
       "      <td>0.040916</td>\n",
       "      <td>0.603451</td>\n",
       "    </tr>\n",
       "    <tr>\n",
       "      <th>95984.0</th>\n",
       "      <td>72.0</td>\n",
       "      <td>-0.041548</td>\n",
       "      <td>0.327796</td>\n",
       "      <td>-0.996519</td>\n",
       "      <td>-0.070416</td>\n",
       "      <td>-0.010337</td>\n",
       "      <td>0.041900</td>\n",
       "      <td>0.972332</td>\n",
       "    </tr>\n",
       "    <tr>\n",
       "      <th>95985.0</th>\n",
       "      <td>40.0</td>\n",
       "      <td>-0.063144</td>\n",
       "      <td>0.292418</td>\n",
       "      <td>-1.738639</td>\n",
       "      <td>-0.080657</td>\n",
       "      <td>-0.015660</td>\n",
       "      <td>0.038328</td>\n",
       "      <td>0.213379</td>\n",
       "    </tr>\n",
       "    <tr>\n",
       "      <th>95986.0</th>\n",
       "      <td>8.0</td>\n",
       "      <td>0.057292</td>\n",
       "      <td>0.140048</td>\n",
       "      <td>-0.191605</td>\n",
       "      <td>-0.008133</td>\n",
       "      <td>0.061157</td>\n",
       "      <td>0.164979</td>\n",
       "      <td>0.226761</td>\n",
       "    </tr>\n",
       "    <tr>\n",
       "      <th>...</th>\n",
       "      <td>...</td>\n",
       "      <td>...</td>\n",
       "      <td>...</td>\n",
       "      <td>...</td>\n",
       "      <td>...</td>\n",
       "      <td>...</td>\n",
       "      <td>...</td>\n",
       "      <td>...</td>\n",
       "    </tr>\n",
       "    <tr>\n",
       "      <th>97329.0</th>\n",
       "      <td>331.0</td>\n",
       "      <td>0.013116</td>\n",
       "      <td>0.128546</td>\n",
       "      <td>-0.382067</td>\n",
       "      <td>-0.020812</td>\n",
       "      <td>0.002922</td>\n",
       "      <td>0.023154</td>\n",
       "      <td>1.609746</td>\n",
       "    </tr>\n",
       "    <tr>\n",
       "      <th>97330.0</th>\n",
       "      <td>223.0</td>\n",
       "      <td>-0.003714</td>\n",
       "      <td>0.098931</td>\n",
       "      <td>-0.423369</td>\n",
       "      <td>-0.036291</td>\n",
       "      <td>-0.008856</td>\n",
       "      <td>0.012730</td>\n",
       "      <td>0.670194</td>\n",
       "    </tr>\n",
       "    <tr>\n",
       "      <th>97331.0</th>\n",
       "      <td>5.0</td>\n",
       "      <td>0.014898</td>\n",
       "      <td>0.146574</td>\n",
       "      <td>-0.166361</td>\n",
       "      <td>-0.031492</td>\n",
       "      <td>-0.012392</td>\n",
       "      <td>0.048324</td>\n",
       "      <td>0.236409</td>\n",
       "    </tr>\n",
       "    <tr>\n",
       "      <th>97344.0</th>\n",
       "      <td>29.0</td>\n",
       "      <td>0.025764</td>\n",
       "      <td>0.145435</td>\n",
       "      <td>-0.207092</td>\n",
       "      <td>-0.049933</td>\n",
       "      <td>0.014245</td>\n",
       "      <td>0.091893</td>\n",
       "      <td>0.590794</td>\n",
       "    </tr>\n",
       "    <tr>\n",
       "      <th>399675.0</th>\n",
       "      <td>3.0</td>\n",
       "      <td>-0.047523</td>\n",
       "      <td>0.068244</td>\n",
       "      <td>-0.126013</td>\n",
       "      <td>-0.070172</td>\n",
       "      <td>-0.014332</td>\n",
       "      <td>-0.008277</td>\n",
       "      <td>-0.002223</td>\n",
       "    </tr>\n",
       "  </tbody>\n",
       "</table>\n",
       "<p>377 rows × 8 columns</p>\n",
       "</div>"
      ],
      "text/plain": [
       "             count      mean       std       min       25%       50%  \\\n",
       "regionidzip                                                            \n",
       "95982.0       44.0 -0.026533  0.170769 -0.697602 -0.066795 -0.027675   \n",
       "95983.0       94.0  0.007433  0.187209 -0.965342 -0.056004 -0.001945   \n",
       "95984.0       72.0 -0.041548  0.327796 -0.996519 -0.070416 -0.010337   \n",
       "95985.0       40.0 -0.063144  0.292418 -1.738639 -0.080657 -0.015660   \n",
       "95986.0        8.0  0.057292  0.140048 -0.191605 -0.008133  0.061157   \n",
       "...            ...       ...       ...       ...       ...       ...   \n",
       "97329.0      331.0  0.013116  0.128546 -0.382067 -0.020812  0.002922   \n",
       "97330.0      223.0 -0.003714  0.098931 -0.423369 -0.036291 -0.008856   \n",
       "97331.0        5.0  0.014898  0.146574 -0.166361 -0.031492 -0.012392   \n",
       "97344.0       29.0  0.025764  0.145435 -0.207092 -0.049933  0.014245   \n",
       "399675.0       3.0 -0.047523  0.068244 -0.126013 -0.070172 -0.014332   \n",
       "\n",
       "                  75%       max  \n",
       "regionidzip                      \n",
       "95982.0      0.069197  0.304941  \n",
       "95983.0      0.040916  0.603451  \n",
       "95984.0      0.041900  0.972332  \n",
       "95985.0      0.038328  0.213379  \n",
       "95986.0      0.164979  0.226761  \n",
       "...               ...       ...  \n",
       "97329.0      0.023154  1.609746  \n",
       "97330.0      0.012730  0.670194  \n",
       "97331.0      0.048324  0.236409  \n",
       "97344.0      0.091893  0.590794  \n",
       "399675.0    -0.008277 -0.002223  \n",
       "\n",
       "[377 rows x 8 columns]"
      ]
     },
     "execution_count": 103,
     "metadata": {},
     "output_type": "execute_result"
    }
   ],
   "source": [
    "train.groupby('regionidzip').logerror.describe()"
   ]
  },
  {
   "cell_type": "code",
   "execution_count": 104,
   "metadata": {},
   "outputs": [],
   "source": [
    "from scipy import stats"
   ]
  },
  {
   "cell_type": "code",
   "execution_count": 105,
   "metadata": {},
   "outputs": [],
   "source": [
    "# creating a function that runs a one sample t test and returns a list of zipcode with higher\n",
    "# mean and lower mean compared to the overall average\n",
    "\n",
    "\n",
    "def get_zip_with_high_logerror(df):\n",
    "    zipcode = []\n",
    "    for val in df.regionidzip.unique():\n",
    "        a = 0.025\n",
    "        x1 = df[df.regionidzip == val].logerror\n",
    "        x2 = df.logerror\n",
    "        t, p = stats.ttest_1samp(x1, x2.mean())\n",
    "        if (t > 0) & (p < a):\n",
    "            zipcode.append(val)\n",
    "        \n",
    "    return zipcode\n",
    "def get_zip_with_low_logerror(df):\n",
    "    zipcode = []\n",
    "    for val in df.regionidzip.unique():\n",
    "        a = 0.025\n",
    "        x1 = df[df.regionidzip == val].logerror\n",
    "        x2 = df.logerror\n",
    "        t, p = stats.ttest_1samp(x1, x2.mean())\n",
    "        if (t < 0) & (p < a):\n",
    "            zipcode.append(val)\n",
    "        \n",
    "    return zipcode"
   ]
  },
  {
   "cell_type": "code",
   "execution_count": 106,
   "metadata": {},
   "outputs": [
    {
     "name": "stdout",
     "output_type": "stream",
     "text": [
      "[96465.0, 96492.0, 96197.0, 96951.0]\n",
      "\n",
      "[97330.0, 96395.0, 96095.0, 96237.0, 95989.0, 96007.0, 96022.0, 96047.0, 96948.0, 96978.0, 96043.0, 97018.0, 96293.0, 97084.0, 96946.0, 96152.0, 96377.0, 96045.0, 96120.0, 96271.0, 96137.0, 96282.0, 96280.0, 96478.0, 96005.0, 96097.0]\n"
     ]
    }
   ],
   "source": [
    "high_zipcode = get_zip_with_high_logerror(train)\n",
    "\n",
    "low_zipcode = get_zip_with_low_logerror(train)\n",
    "\n",
    "print(high_zipcode)\n",
    "print()\n",
    "\n",
    "print(low_zipcode)"
   ]
  },
  {
   "cell_type": "markdown",
   "metadata": {},
   "source": [
    "**Takeaways:**\n",
    "    - there are certain zipcodes where the log error is significantly higher than the average logerror\n",
    "    - and there are certain zipcodes where the log error is significantly lower than the average logerror"
   ]
  },
  {
   "cell_type": "code",
   "execution_count": 107,
   "metadata": {},
   "outputs": [
    {
     "data": {
      "image/png": "[encoded data removed]",
      "text/plain": [
       "<Figure size 432x288 with 1 Axes>"
      ]
     },
     "metadata": {
      "needs_background": "light"
     },
     "output_type": "display_data"
    }
   ],
   "source": [
    "# Is certain bathroom count contributing to higher logerror?\n",
    "\n",
    "for code in high_zipcode:\n",
    "    plt.scatter(train[train.regionidzip == code].bathroomcnt, train[train.regionidzip == code].logerror)\n",
    "    plt.title('Is specific bathroom count contributing to high logerror?')\n",
    "    \n",
    "   "
   ]
  },
  {
   "cell_type": "code",
   "execution_count": 108,
   "metadata": {},
   "outputs": [
    {
     "data": {
      "image/png": "[encoded data removed]",
      "text/plain": [
       "<Figure size 432x288 with 1 Axes>"
      ]
     },
     "metadata": {
      "needs_background": "light"
     },
     "output_type": "display_data"
    }
   ],
   "source": [
    "for code in high_zipcode:\n",
    "    plt.scatter(train[train.regionidzip == code].bedroomcnt, train[train.regionidzip == code].logerror)\n",
    "    plt.title('Is specific bedroom count contributing to high logerror?')"
   ]
  },
  {
   "cell_type": "code",
   "execution_count": 109,
   "metadata": {},
   "outputs": [
    {
     "data": {
      "image/png": "[encoded data removed]",
      "text/plain": [
       "<Figure size 432x288 with 1 Axes>"
      ]
     },
     "metadata": {
      "needs_background": "light"
     },
     "output_type": "display_data"
    }
   ],
   "source": [
    "for code in high_zipcode:\n",
    "    plt.scatter(train[train.regionidzip == code].calculatedfinishedsquarefeet, train[train.regionidzip == code].logerror)\n",
    "    plt.title('Is there certain square footage contributing to higher log error?')\n",
    "    \n",
    "#     train.calculatedfinishedsquarefeet.hist(ax = ax)\n"
   ]
  },
  {
   "cell_type": "code",
   "execution_count": 110,
   "metadata": {},
   "outputs": [
    {
     "data": {
      "image/png": "[encoded data removed]",
      "text/plain": [
       "<Figure size 432x288 with 1 Axes>"
      ]
     },
     "metadata": {
      "needs_background": "light"
     },
     "output_type": "display_data"
    }
   ],
   "source": [
    "for code in low_zipcode:\n",
    "    plt.scatter(train[train.regionidzip == code].bathroomcnt, train[train.regionidzip == code].logerror)\n",
    "    plt.title('Is specific bathroom count contributing to low logerror?')"
   ]
  },
  {
   "cell_type": "code",
   "execution_count": 111,
   "metadata": {},
   "outputs": [
    {
     "data": {
      "image/png": "[encoded data removed]",
      "text/plain": [
       "<Figure size 432x288 with 1 Axes>"
      ]
     },
     "metadata": {
      "needs_background": "light"
     },
     "output_type": "display_data"
    }
   ],
   "source": [
    "for code in low_zipcode:\n",
    "    plt.scatter(train[train.regionidzip == code].bedroomcnt, train[train.regionidzip == code].logerror)\n",
    "    plt.title('Is specific bedroom count contributing to low logerror?')"
   ]
  },
  {
   "cell_type": "code",
   "execution_count": 112,
   "metadata": {},
   "outputs": [
    {
     "data": {
      "image/png": "[encoded data removed]",
      "text/plain": [
       "<Figure size 432x288 with 1 Axes>"
      ]
     },
     "metadata": {
      "needs_background": "light"
     },
     "output_type": "display_data"
    }
   ],
   "source": [
    "for code in low_zipcode:\n",
    "    plt.scatter(train[train.regionidzip == code].calculatedfinishedsquarefeet, train[train.regionidzip == code].logerror)\n",
    "    plt.title('Is there certain square footage contributing to low log error?')"
   ]
  },
  {
   "cell_type": "code",
   "execution_count": 113,
   "metadata": {},
   "outputs": [
    {
     "data": {
      "text/plain": [
       "Text(0.5, 1.0, 'lat vs long')"
      ]
     },
     "execution_count": 113,
     "metadata": {},
     "output_type": "execute_result"
    },
    {
     "data": {
      "image/png": "[encoded data removed]",
      "text/plain": [
       "<Figure size 432x288 with 1 Axes>"
      ]
     },
     "metadata": {
      "needs_background": "light"
     },
     "output_type": "display_data"
    }
   ],
   "source": [
    "plt.scatter(train[train.fips == 6037.0].latitude, train[train.fips == 6037.0].longitude)\n",
    "\n",
    "plt.scatter(train[train.fips == 6059.0].latitude, train[train.fips == 6059.0].longitude)\n",
    "\n",
    "plt.scatter(train[train.fips == 6111.0].latitude, train[train.fips == 6111.0].longitude)\n",
    "plt.title('lat vs long')"
   ]
  },
  {
   "cell_type": "markdown",
   "metadata": {},
   "source": [
    "Takeaways:\n",
    "- theres is a clear distinction between different fips except blue. there are observations that are clearly outliers\n",
    "    \n",
    "    "
   ]
  },
  {
   "cell_type": "markdown",
   "metadata": {},
   "source": [
    "### How does number of bathroom count influence avg log error"
   ]
  },
  {
   "cell_type": "code",
   "execution_count": 114,
   "metadata": {},
   "outputs": [
    {
     "data": {
      "image/png": "[encoded data removed]",
      "text/plain": [
       "<Figure size 432x288 with 1 Axes>"
      ]
     },
     "metadata": {
      "needs_background": "light"
     },
     "output_type": "display_data"
    }
   ],
   "source": [
    "val =[1,2,3,4,5,6,7, 8, 9, 10]\n",
    "for num in val:\n",
    "    plt.scatter(num, train[train.bathroomcnt == num].logerror.mean())\n",
    "    plt.title('How does number of bathroom  influence avg logerror')\n",
    "    plt.xlabel('bathroom count')\n",
    "    plt.ylabel('average logerror')"
   ]
  },
  {
   "cell_type": "markdown",
   "metadata": {},
   "source": [
    "Takeaway:\n",
    "- as the number of bathroom increases, the log error increases to positive and then drops significantly to negative for 9 and 10"
   ]
  },
  {
   "cell_type": "markdown",
   "metadata": {},
   "source": [
    "### How does number of bedroom count influence avg log error"
   ]
  },
  {
   "cell_type": "code",
   "execution_count": 115,
   "metadata": {},
   "outputs": [
    {
     "data": {
      "image/png": "[encoded data removed]",
      "text/plain": [
       "<Figure size 432x288 with 1 Axes>"
      ]
     },
     "metadata": {
      "needs_background": "light"
     },
     "output_type": "display_data"
    }
   ],
   "source": [
    "val =[1,2,3,4,5,6,7, 8, 9, 10]\n",
    "for num in val:\n",
    "    plt.scatter(num, train[train.bedroomcnt == num].logerror.mean())\n",
    "    plt.xlabel('bedroom count')\n",
    "    plt.ylabel('average logerror')\n",
    "    \n",
    "    plt.title('How does number of bedroom influence average logerror ')"
   ]
  },
  {
   "cell_type": "markdown",
   "metadata": {},
   "source": [
    "takeaways:\n",
    "- as the number of bedroom increases the logerror increases and as the count gets higher (7,8,9,10), the average log error is significantly higher"
   ]
  },
  {
   "cell_type": "code",
   "execution_count": 116,
   "metadata": {},
   "outputs": [
    {
     "data": {
      "text/plain": [
       "id                                0\n",
       "parcelid                          0\n",
       "bathroomcnt                       0\n",
       "bedroomcnt                        0\n",
       "calculatedfinishedsquarefeet      0\n",
       "fips                              0\n",
       "fullbathcnt                       0\n",
       "latitude                          0\n",
       "longitude                         0\n",
       "lotsizesquarefeet               181\n",
       "propertycountylandusecode         0\n",
       "rawcensustractandblock            0\n",
       "regionidcity                    734\n",
       "regionidcounty                    0\n",
       "regionidzip                      10\n",
       "roomcnt                           0\n",
       "yearbuilt                        19\n",
       "structuretaxvaluedollarcnt        0\n",
       "taxvaluedollarcnt                 0\n",
       "assessmentyear                    0\n",
       "landtaxvaluedollarcnt             0\n",
       "taxamount                         0\n",
       "censustractandblock              49\n",
       "logerror                          0\n",
       "transactiondate                   0\n",
       "propertylandusedesc               0\n",
       "dtype: int64"
      ]
     },
     "execution_count": 116,
     "metadata": {},
     "output_type": "execute_result"
    }
   ],
   "source": [
    "zillow.isnull().sum()"
   ]
  },
  {
   "cell_type": "code",
   "execution_count": null,
   "metadata": {},
   "outputs": [],
   "source": []
  },
  {
   "cell_type": "code",
   "execution_count": null,
   "metadata": {},
   "outputs": [],
   "source": []
  },
  {
   "cell_type": "code",
   "execution_count": null,
   "metadata": {},
   "outputs": [],
   "source": []
  },
  {
   "cell_type": "code",
   "execution_count": null,
   "metadata": {},
   "outputs": [],
   "source": []
  },
  {
   "cell_type": "code",
   "execution_count": null,
   "metadata": {},
   "outputs": [],
   "source": []
  }
 ],
 "metadata": {
  "kernelspec": {
   "display_name": "Python 3",
   "language": "python",
   "name": "python3"
  },
  "language_info": {
   "codemirror_mode": {
    "name": "ipython",
    "version": 3
   },
   "file_extension": ".py",
   "mimetype": "text/x-python",
   "name": "python",
   "nbconvert_exporter": "python",
   "pygments_lexer": "ipython3",
   "version": "3.7.6"
  }
 },
 "nbformat": 4,
 "nbformat_minor": 4
}
