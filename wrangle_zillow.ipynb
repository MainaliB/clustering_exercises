{
 "cells": [
  {
   "cell_type": "code",
   "execution_count": 1,
   "metadata": {},
   "outputs": [],
   "source": [
    "import acquire\n",
    "import pandas as pd\n"
   ]
  },
  {
   "cell_type": "code",
   "execution_count": 2,
   "metadata": {},
   "outputs": [],
   "source": [
    "# using out acquire module to read the data from the sql database. A copy of the data is stored in the local repo as well\n",
    "\n",
    "df = acquire.get_data()"
   ]
  },
  {
   "cell_type": "code",
   "execution_count": 6,
   "metadata": {},
   "outputs": [
    {
     "data": {
      "text/plain": [
       "id                                  0\n",
       "parcelid                            0\n",
       "airconditioningtypeid           52461\n",
       "architecturalstyletypeid        77208\n",
       "basementsqft                    77364\n",
       "bathroomcnt                        33\n",
       "bedroomcnt                         33\n",
       "buildingclasstypeid             77399\n",
       "buildingqualitytypeid           27742\n",
       "calculatedbathnbr                 642\n",
       "decktypeid                      76800\n",
       "finishedfloor1squarefeet        71391\n",
       "calculatedfinishedsquarefeet      229\n",
       "finishedsquarefeet12             3665\n",
       "finishedsquarefeet13            77373\n",
       "finishedsquarefeet15            74405\n",
       "finishedsquarefeet50            71391\n",
       "finishedsquarefeet6             77028\n",
       "fips                               33\n",
       "fireplacecnt                    69138\n",
       "fullbathcnt                       642\n",
       "garagecarcnt                    51940\n",
       "garagetotalsqft                 51940\n",
       "hashottuborspa                  75876\n",
       "heatingorsystemtypeid           27974\n",
       "latitude                           33\n",
       "longitude                          33\n",
       "lotsizesquarefeet                8272\n",
       "poolcnt                         61277\n",
       "poolsizesum                     76547\n",
       "pooltypeid10                    76950\n",
       "pooltypeid2                     76340\n",
       "pooltypeid7                     62372\n",
       "propertycountylandusecode          33\n",
       "propertylandusetypeid              33\n",
       "propertyzoningdesc              27083\n",
       "rawcensustractandblock             33\n",
       "regionidcity                     1504\n",
       "regionidcounty                     33\n",
       "regionidneighborhood            46524\n",
       "regionidzip                        83\n",
       "roomcnt                            33\n",
       "storytypeid                     77364\n",
       "threequarterbathnbr             67318\n",
       "typeconstructiontypeid          77192\n",
       "unitcnt                         26851\n",
       "yardbuildingsqft17              75026\n",
       "yardbuildingsqft26              77344\n",
       "yearbuilt                         296\n",
       "numberofstories                 59854\n",
       "fireplaceflag                   77242\n",
       "structuretaxvaluedollarcnt        145\n",
       "taxvaluedollarcnt                  34\n",
       "assessmentyear                     33\n",
       "landtaxvaluedollarcnt              35\n",
       "taxamount                          38\n",
       "taxdelinquencyflag              74528\n",
       "taxdelinquencyyear              74528\n",
       "censustractandblock               277\n",
       "parcelid                            0\n",
       "dtype: int64"
      ]
     },
     "execution_count": 6,
     "metadata": {},
     "output_type": "execute_result"
    }
   ],
   "source": [
    "# check the number of null values in the dataframe by column\n",
    "df.isnull().sum().head(60)"
   ]
  },
  {
   "cell_type": "code",
   "execution_count": null,
   "metadata": {},
   "outputs": [],
   "source": [
    "# lets create a dataframe with the name of the columns"
   ]
  }
 ],
 "metadata": {
  "kernelspec": {
   "display_name": "Python 3",
   "language": "python",
   "name": "python3"
  },
  "language_info": {
   "codemirror_mode": {
    "name": "ipython",
    "version": 3
   },
   "file_extension": ".py",
   "mimetype": "text/x-python",
   "name": "python",
   "nbconvert_exporter": "python",
   "pygments_lexer": "ipython3",
   "version": "3.7.6"
  }
 },
 "nbformat": 4,
 "nbformat_minor": 4
}
